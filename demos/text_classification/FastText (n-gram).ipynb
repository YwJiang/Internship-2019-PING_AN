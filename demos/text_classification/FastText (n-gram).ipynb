{
 "cells": [
  {
   "cell_type": "code",
   "execution_count": 3,
   "metadata": {},
   "outputs": [
    {
     "name": "stdout",
     "output_type": "stream",
     "text": [
      "1.14.0\n"
     ]
    }
   ],
   "source": [
    "import pandas as pd\n",
    "import numpy as np\n",
    "import tensorflow as tf\n",
    "print(tf.__version__)"
   ]
  },
  {
   "cell_type": "code",
   "execution_count": 1,
   "metadata": {},
   "outputs": [],
   "source": [
    "path = './data/ChnSentiCorp_htl_all.csv'"
   ]
  },
  {
   "cell_type": "markdown",
   "metadata": {},
   "source": [
    "## Read data"
   ]
  },
  {
   "cell_type": "code",
   "execution_count": 4,
   "metadata": {},
   "outputs": [
    {
     "name": "stdout",
     "output_type": "stream",
     "text": [
      "评论数目（总体）：7766\n",
      "评论数目（正向）：5322\n",
      "评论数目（负向）：2444\n"
     ]
    }
   ],
   "source": [
    "pd_all = pd.read_csv(path)\n",
    "\n",
    "print('评论数目（总体）：%d' % pd_all.shape[0])\n",
    "print('评论数目（正向）：%d' % pd_all[pd_all.label==1].shape[0])\n",
    "print('评论数目（负向）：%d' % pd_all[pd_all.label==0].shape[0])"
   ]
  },
  {
   "cell_type": "code",
   "execution_count": 4,
   "metadata": {},
   "outputs": [
    {
     "data": {
      "text/html": [
       "<div>\n",
       "<style scoped>\n",
       "    .dataframe tbody tr th:only-of-type {\n",
       "        vertical-align: middle;\n",
       "    }\n",
       "\n",
       "    .dataframe tbody tr th {\n",
       "        vertical-align: top;\n",
       "    }\n",
       "\n",
       "    .dataframe thead th {\n",
       "        text-align: right;\n",
       "    }\n",
       "</style>\n",
       "<table border=\"1\" class=\"dataframe\">\n",
       "  <thead>\n",
       "    <tr style=\"text-align: right;\">\n",
       "      <th></th>\n",
       "      <th>label</th>\n",
       "      <th>review</th>\n",
       "    </tr>\n",
       "  </thead>\n",
       "  <tbody>\n",
       "    <tr>\n",
       "      <th>0</th>\n",
       "      <td>1</td>\n",
       "      <td>距离川沙公路较近,但是公交指示不对,如果是\"蔡陆线\"的话,会非常麻烦.建议用别的路线.房间较...</td>\n",
       "    </tr>\n",
       "    <tr>\n",
       "      <th>1</th>\n",
       "      <td>1</td>\n",
       "      <td>商务大床房，房间很大，床有2M宽，整体感觉经济实惠不错!</td>\n",
       "    </tr>\n",
       "    <tr>\n",
       "      <th>2</th>\n",
       "      <td>1</td>\n",
       "      <td>早餐太差，无论去多少人，那边也不加食品的。酒店应该重视一下这个问题了。房间本身很好。</td>\n",
       "    </tr>\n",
       "    <tr>\n",
       "      <th>3</th>\n",
       "      <td>1</td>\n",
       "      <td>宾馆在小街道上，不大好找，但还好北京热心同胞很多~宾馆设施跟介绍的差不多，房间很小，确实挺小...</td>\n",
       "    </tr>\n",
       "    <tr>\n",
       "      <th>4</th>\n",
       "      <td>1</td>\n",
       "      <td>CBD中心,周围没什么店铺,说5星有点勉强.不知道为什么卫生间没有电吹风</td>\n",
       "    </tr>\n",
       "  </tbody>\n",
       "</table>\n",
       "</div>"
      ],
      "text/plain": [
       "   label                                             review\n",
       "0      1  距离川沙公路较近,但是公交指示不对,如果是\"蔡陆线\"的话,会非常麻烦.建议用别的路线.房间较...\n",
       "1      1                       商务大床房，房间很大，床有2M宽，整体感觉经济实惠不错!\n",
       "2      1         早餐太差，无论去多少人，那边也不加食品的。酒店应该重视一下这个问题了。房间本身很好。\n",
       "3      1  宾馆在小街道上，不大好找，但还好北京热心同胞很多~宾馆设施跟介绍的差不多，房间很小，确实挺小...\n",
       "4      1               CBD中心,周围没什么店铺,说5星有点勉强.不知道为什么卫生间没有电吹风"
      ]
     },
     "execution_count": 4,
     "metadata": {},
     "output_type": "execute_result"
    }
   ],
   "source": [
    "pd_all.head()"
   ]
  },
  {
   "cell_type": "code",
   "execution_count": 5,
   "metadata": {},
   "outputs": [],
   "source": [
    "pd_positive = pd_all[pd_all.label==1]\n",
    "pd_negative = pd_all[pd_all.label==0]\n",
    "\n",
    "def get_balance_corpus(corpus_size, corpus_pos, corpus_neg):\n",
    "    sample_size = corpus_size // 2\n",
    "    pd_corpus_balance = pd.concat([corpus_pos.sample(sample_size, replace=corpus_pos.shape[0]<sample_size), \\\n",
    "                                   corpus_neg.sample(sample_size, replace=corpus_neg.shape[0]<sample_size)])\n",
    "    \n",
    "    print('Comments number(overall)：%d' % pd_corpus_balance.shape[0])\n",
    "    print('Comments number(positive)：%d' % pd_corpus_balance[pd_corpus_balance.label==1].shape[0])\n",
    "    print('Comments number(negative)：%d' % pd_corpus_balance[pd_corpus_balance.label==0].shape[0])    \n",
    "    \n",
    "    return pd_corpus_balance"
   ]
  },
  {
   "cell_type": "code",
   "execution_count": 6,
   "metadata": {
    "collapsed": true
   },
   "outputs": [
    {
     "name": "stdout",
     "output_type": "stream",
     "text": [
      "Comments number(overall)：4000\n",
      "Comments number(positive)：2000\n",
      "Comments number(negative)：2000\n"
     ]
    },
    {
     "data": {
      "text/html": [
       "<div>\n",
       "<style scoped>\n",
       "    .dataframe tbody tr th:only-of-type {\n",
       "        vertical-align: middle;\n",
       "    }\n",
       "\n",
       "    .dataframe tbody tr th {\n",
       "        vertical-align: top;\n",
       "    }\n",
       "\n",
       "    .dataframe thead th {\n",
       "        text-align: right;\n",
       "    }\n",
       "</style>\n",
       "<table border=\"1\" class=\"dataframe\">\n",
       "  <thead>\n",
       "    <tr style=\"text-align: right;\">\n",
       "      <th></th>\n",
       "      <th>label</th>\n",
       "      <th>review</th>\n",
       "    </tr>\n",
       "  </thead>\n",
       "  <tbody>\n",
       "    <tr>\n",
       "      <th>711</th>\n",
       "      <td>1</td>\n",
       "      <td>整体感觉不错，房间不大，色调温和，床松软舒适，刚去过，室内温度挺高，洗澡水放几秒就有热水出来...</td>\n",
       "    </tr>\n",
       "    <tr>\n",
       "      <th>3455</th>\n",
       "      <td>1</td>\n",
       "      <td>酒店地理位置不错，硬件设施稍次。总体还可以。</td>\n",
       "    </tr>\n",
       "    <tr>\n",
       "      <th>756</th>\n",
       "      <td>1</td>\n",
       "      <td>酒店交通不是很方便，离市区较远，火车站过来大约17、8块，因为地处开发区，住过来的大多数人都...</td>\n",
       "    </tr>\n",
       "    <tr>\n",
       "      <th>7027</th>\n",
       "      <td>0</td>\n",
       "      <td>该酒店无论硬件还是软件都达不到4星级。院内停车要交费，房间小，装修档次低，房间床和电视机等档...</td>\n",
       "    </tr>\n",
       "    <tr>\n",
       "      <th>4926</th>\n",
       "      <td>1</td>\n",
       "      <td>非常喜欢酒店的服务，我第一次来提了好多意见，比如开夜床没有点心，等等，结果第二天客房就送来点...</td>\n",
       "    </tr>\n",
       "    <tr>\n",
       "      <th>3927</th>\n",
       "      <td>1</td>\n",
       "      <td>门口服务很好,一楼的湖南菜价格也不贵,味道很好!尤其是菜单上没有的菜,他们会安排二楼的餐厅去...</td>\n",
       "    </tr>\n",
       "    <tr>\n",
       "      <th>2580</th>\n",
       "      <td>1</td>\n",
       "      <td>过年时一家三口在这家酒店住了一周一线海景套房,感觉很不错.房间安静,又能看海,服务也不错.就...</td>\n",
       "    </tr>\n",
       "    <tr>\n",
       "      <th>6168</th>\n",
       "      <td>0</td>\n",
       "      <td>我是四月初去的深圳。我订的是豪华套房，开始在网上开酒店新装修后的照片挺吸引的，但入住后才发现...</td>\n",
       "    </tr>\n",
       "    <tr>\n",
       "      <th>504</th>\n",
       "      <td>1</td>\n",
       "      <td>服务很好，按服务中心按钮，提出自己的需求，很快就有人对应。不足是：房间有些小，房子有些旧</td>\n",
       "    </tr>\n",
       "    <tr>\n",
       "      <th>4505</th>\n",
       "      <td>1</td>\n",
       "      <td>到桐庐游玩,4月30日晚上一行9人入住上服假日山庄,总结如下:1.地段不错,距离市中心10分...</td>\n",
       "    </tr>\n",
       "  </tbody>\n",
       "</table>\n",
       "</div>"
      ],
      "text/plain": [
       "      label                                             review\n",
       "711       1  整体感觉不错，房间不大，色调温和，床松软舒适，刚去过，室内温度挺高，洗澡水放几秒就有热水出来...\n",
       "3455      1                             酒店地理位置不错，硬件设施稍次。总体还可以。\n",
       "756       1  酒店交通不是很方便，离市区较远，火车站过来大约17、8块，因为地处开发区，住过来的大多数人都...\n",
       "7027      0  该酒店无论硬件还是软件都达不到4星级。院内停车要交费，房间小，装修档次低，房间床和电视机等档...\n",
       "4926      1  非常喜欢酒店的服务，我第一次来提了好多意见，比如开夜床没有点心，等等，结果第二天客房就送来点...\n",
       "3927      1  门口服务很好,一楼的湖南菜价格也不贵,味道很好!尤其是菜单上没有的菜,他们会安排二楼的餐厅去...\n",
       "2580      1  过年时一家三口在这家酒店住了一周一线海景套房,感觉很不错.房间安静,又能看海,服务也不错.就...\n",
       "6168      0  我是四月初去的深圳。我订的是豪华套房，开始在网上开酒店新装修后的照片挺吸引的，但入住后才发现...\n",
       "504       1       服务很好，按服务中心按钮，提出自己的需求，很快就有人对应。不足是：房间有些小，房子有些旧\n",
       "4505      1  到桐庐游玩,4月30日晚上一行9人入住上服假日山庄,总结如下:1.地段不错,距离市中心10分..."
      ]
     },
     "execution_count": 6,
     "metadata": {},
     "output_type": "execute_result"
    }
   ],
   "source": [
    "ChnSentiCorp_htl_ba_2000 = get_balance_corpus(4000, pd_positive, pd_negative)\n",
    "\n",
    "ChnSentiCorp_htl_ba_2000.sample(10)"
   ]
  },
  {
   "cell_type": "markdown",
   "metadata": {},
   "source": [
    "## Preprocessing data"
   ]
  },
  {
   "cell_type": "code",
   "execution_count": 7,
   "metadata": {},
   "outputs": [],
   "source": [
    "dataset = ChnSentiCorp_htl_ba_2000\n",
    "dataset.columns = ['label', 'sentence']"
   ]
  },
  {
   "cell_type": "code",
   "execution_count": 8,
   "metadata": {},
   "outputs": [],
   "source": [
    "import jieba\n",
    "from string import punctuation\n",
    "from zhon import hanzi\n",
    "import re"
   ]
  },
  {
   "cell_type": "code",
   "execution_count": 9,
   "metadata": {},
   "outputs": [],
   "source": [
    "# remove the punctuations (both English and Chinese)\n",
    "def remove_punctuation(input_string):\n",
    "    punc = punctuation + hanzi.punctuation\n",
    "    output = re.sub(r'[{}]+'.format(punc), '', input_string)\n",
    "    return output"
   ]
  },
  {
   "cell_type": "code",
   "execution_count": 10,
   "metadata": {},
   "outputs": [],
   "source": [
    "def jieba_cut(sentence):\n",
    "    sent_seg = jieba.cut(sentence)\n",
    "    sent_new = ' '.join(sent_seg)\n",
    "    sent_new = remove_punctuation(sent_new)\n",
    "    sent_strip = sent_new.strip()\n",
    "    return sent_strip"
   ]
  },
  {
   "cell_type": "code",
   "execution_count": 11,
   "metadata": {
    "scrolled": true
   },
   "outputs": [
    {
     "name": "stderr",
     "output_type": "stream",
     "text": [
      "Building prefix dict from the default dictionary ...\n",
      "WARNING: Logging before flag parsing goes to stderr.\n",
      "I0910 15:25:47.385840 11576 __init__.py:111] Building prefix dict from the default dictionary ...\n",
      "Loading model from cache C:\\Users\\ADMINI~1\\AppData\\Local\\Temp\\jieba.cache\n",
      "I0910 15:25:47.390174 11576 __init__.py:131] Loading model from cache C:\\Users\\ADMINI~1\\AppData\\Local\\Temp\\jieba.cache\n",
      "Loading model cost 1.659 seconds.\n",
      "I0910 15:25:49.047349 11576 __init__.py:163] Loading model cost 1.659 seconds.\n",
      "Prefix dict has been built succesfully.\n",
      "I0910 15:25:49.050339 11576 __init__.py:164] Prefix dict has been built succesfully.\n"
     ]
    },
    {
     "data": {
      "text/plain": [
       "'任由 着  你 来 了  你 走 了'"
      ]
     },
     "execution_count": 11,
     "metadata": {},
     "output_type": "execute_result"
    }
   ],
   "source": [
    "sentence = \"任由着，你来了，你走了\"\n",
    "jieba_cut(sentence)\n"
   ]
  },
  {
   "cell_type": "code",
   "execution_count": 12,
   "metadata": {},
   "outputs": [],
   "source": [
    "dataset = dataset.dropna(axis=0,how='any') #drop all rows that have any NaN values\n",
    "clean_sent = ['']*len(dataset)\n",
    "for i in range(len(dataset['sentence'])):\n",
    "    sent = dataset['sentence'].tolist()[i]\n",
    "    try:\n",
    "        clean_sent[i] = jieba_cut(sent)\n",
    "    except:\n",
    "        print(sent)\n",
    "        print(i)\n",
    "\n",
    "# dataset['sentence_clean'] = clean_sent\n",
    "# dataset.head(2)               "
   ]
  },
  {
   "cell_type": "code",
   "execution_count": 13,
   "metadata": {},
   "outputs": [],
   "source": [
    "dataset['clean sentence'] = clean_sent"
   ]
  },
  {
   "cell_type": "markdown",
   "metadata": {},
   "source": [
    "## Build dictionary"
   ]
  },
  {
   "cell_type": "code",
   "execution_count": 14,
   "metadata": {},
   "outputs": [],
   "source": [
    "import pickle as pkl\n",
    "from collections import OrderedDict\n",
    "import argparse\n",
    "import os\n",
    "\n",
    "def build_dictionary(text):\n",
    "    \"\"\"\n",
    "    Build a dictionary\n",
    "    :param text: list of sentences (pre-tokens)\n",
    "    :return:\n",
    "    \"\"\"\n",
    "    wordcount = {}\n",
    "    for cc in text:\n",
    "        words = cc.split()\n",
    "        for w in words:\n",
    "            if w not in wordcount:\n",
    "                wordcount[w] = 0\n",
    "            wordcount[w] += 1\n",
    "\n",
    "    sorted_words = sorted(list(wordcount.keys()), key=lambda x: wordcount[x], reverse=True)\n",
    "\n",
    "    worddict = OrderedDict()\n",
    "    worddict[\"<PAD>\"] = 0\n",
    "    worddict[\"<UNK>\"] = 1\n",
    "    for idx, word in enumerate(sorted_words):\n",
    "        worddict[word] = idx+2\n",
    "\n",
    "#     print(\"vocab.py: build_dictionary: wordict\", worddict, type(worddict))\n",
    "\n",
    "    return worddict, wordcount\n",
    "\n",
    "def load_dictionary(loc='./data/faq.txt.pkl'):\n",
    "    \"\"\"\n",
    "    load a dictionary\n",
    "    :param loc:\n",
    "    :return:\n",
    "    \"\"\"\n",
    "    print(os.getcwd())\n",
    "    print(\"vocab.py:\", loc)\n",
    "    with open(loc, 'rb') as f:\n",
    "        worddict = pkl.load(f)\n",
    "        wordcount = pkl.load(f)\n",
    "\n",
    "    print(\"vocab.py: worddict\", worddict, type(worddict))\n",
    "    print(\"vocab.py: wordcount\", wordcount)\n",
    "    return worddict\n",
    "\n",
    "\n",
    "def save_dictionary(worddict, wordcount, loc):\n",
    "    \"\"\"\n",
    "    Save a dictionary to the specified location\n",
    "    \"\"\"\n",
    "    with open(loc, 'wb') as f:\n",
    "        pkl.dump(worddict, f)\n",
    "        pkl.dump(wordcount, f)\n",
    "\n",
    "def build_and_save_dictionary(text, source):\n",
    "    save_loc = source+\".pkl\"\n",
    "    try:\n",
    "        cached = load_dictionary(save_loc)\n",
    "        print(\"Using cached dictionary at {}\".format(save_loc))\n",
    "        return cached\n",
    "    except:\n",
    "        pass\n",
    "    # build again and save\n",
    "    print('unable to load from cached, building fresh')\n",
    "    worddict, wordcount = build_dictionary(text)\n",
    "    print('Got {} unique words'.format(len(worddict)))\n",
    "    print('Saving dictionary at {}'.format(save_loc))\n",
    "    save_dictionary(worddict, wordcount, save_loc)\n",
    "    return worddict\n",
    "                   "
   ]
  },
  {
   "cell_type": "code",
   "execution_count": 15,
   "metadata": {},
   "outputs": [],
   "source": [
    "word_dictionary, _ = build_dictionary(clean_sent) "
   ]
  },
  {
   "cell_type": "code",
   "execution_count": 16,
   "metadata": {},
   "outputs": [
    {
     "data": {
      "text/plain": [
       "21804"
      ]
     },
     "execution_count": 16,
     "metadata": {},
     "output_type": "execute_result"
    }
   ],
   "source": [
    "len(word_dictionary)"
   ]
  },
  {
   "cell_type": "code",
   "execution_count": null,
   "metadata": {},
   "outputs": [],
   "source": []
  },
  {
   "cell_type": "code",
   "execution_count": 17,
   "metadata": {},
   "outputs": [],
   "source": [
    "def encode_sent(list_sent, dictionary):\n",
    "    index = [np.nan]*len(list_sent)\n",
    "    for i in range(len(list_sent)):\n",
    "        sent = list_sent[i]\n",
    "        list_words = jieba_cut(sent).split()\n",
    "        list_index = [0]*len(list_words)\n",
    "        for j in range(len(list_words)):\n",
    "            list_index[j] = dictionary.get(list_words[j], 1)\n",
    "        index[i] = np.array(list_index)\n",
    "    return index\n",
    "\n",
    "        "
   ]
  },
  {
   "cell_type": "code",
   "execution_count": 18,
   "metadata": {},
   "outputs": [],
   "source": [
    "all_sentence_index = encode_sent(dataset['sentence'].tolist(), word_dictionary)"
   ]
  },
  {
   "cell_type": "code",
   "execution_count": 19,
   "metadata": {},
   "outputs": [
    {
     "data": {
      "text/plain": [
       "array([ 2919,   625,     6,  5537,    45,    17,     3,    82,     4,\n",
       "         833,  2105,  2920, 10221,    84,    37,   279,    91,  1059,\n",
       "          77,   119,   264,   219,     6,    25,    17,  5538,    16,\n",
       "          84,  2683,    46,   845,  1281,   139,   139,     6,  1059,\n",
       "          27,  3219,  4627,    28,   234, 10222,    38, 10223,     3,\n",
       "          11,    84,  2223,    28,    25,    11,   390,    67,   231,\n",
       "          57,  1996,   481,    10,    11,     2,     6,    10,    56,\n",
       "          85,   160,   139,   152,   235,    90,   390,    10,    56,\n",
       "           3,   319,     6,    10,  3582,   755, 10224,     2,    36,\n",
       "         234,  5539,   152,    30,  7067,     6,     2, 10225,  2921,\n",
       "           3,    82,    37,  1997, 10226,    46,     2, 10227,  7068,\n",
       "           3, 10228,     2,  7069])"
      ]
     },
     "execution_count": 19,
     "metadata": {},
     "output_type": "execute_result"
    }
   ],
   "source": [
    "all_sentence_index[0]"
   ]
  },
  {
   "cell_type": "markdown",
   "metadata": {},
   "source": [
    "## padding"
   ]
  },
  {
   "cell_type": "code",
   "execution_count": 20,
   "metadata": {},
   "outputs": [],
   "source": [
    "from tensorflow import keras"
   ]
  },
  {
   "cell_type": "code",
   "execution_count": 21,
   "metadata": {},
   "outputs": [],
   "source": [
    "all_data = keras.preprocessing.sequence.pad_sequences(all_sentence_index,\n",
    "                                                        value=word_dictionary[\"<PAD>\"],\n",
    "                                                        padding='post',\n",
    "                                                        maxlen=256)"
   ]
  },
  {
   "cell_type": "code",
   "execution_count": 22,
   "metadata": {
    "collapsed": true
   },
   "outputs": [
    {
     "data": {
      "text/plain": [
       "array([  308,   156,   140,     3,   512,  1206,     5,   188,     2,\n",
       "         341,   554,    63,    18,   280,   129,     8,    20,    44,\n",
       "         231,  3220,    62,     7,    95,   171,    41,   403,  7070,\n",
       "        1427,    10,   196,    68,   325,  2922,   168,     9,   834,\n",
       "         183,  2525,    10,   186,   442,    63,   205,    12,  1902,\n",
       "         290,     5,   971,   564,   100,    44,   281,   697,     3,\n",
       "          13,  2526,   127,   198,   506,   608,     2,   741,    85,\n",
       "           3,    54,    16,   242,     3,   127,    86,    30,     3,\n",
       "          90,  5540,   578,    16,   917,     3,    62,    33,  2527,\n",
       "           3,    91,   903,   411,     5,     6,     2,   341,    63,\n",
       "         688,  1668,    47,   689,   186,  1735,  1669,     2,    13,\n",
       "          11,   659,  5541,   145,    21,    44,   155,   237,    47,\n",
       "           2,  2923,  2528,    22, 10229,    13,     5,  3583,    62,\n",
       "          79,  2923,  3583,   116,   162,   495,    88,   163,   609,\n",
       "          16,   639,     3,     0,     0,     0,     0,     0,     0,\n",
       "           0,     0,     0,     0,     0,     0,     0,     0,     0,\n",
       "           0,     0,     0,     0,     0,     0,     0,     0,     0,\n",
       "           0,     0,     0,     0,     0,     0,     0,     0,     0,\n",
       "           0,     0,     0,     0,     0,     0,     0,     0,     0,\n",
       "           0,     0,     0,     0,     0,     0,     0,     0,     0,\n",
       "           0,     0,     0,     0,     0,     0,     0,     0,     0,\n",
       "           0,     0,     0,     0,     0,     0,     0,     0,     0,\n",
       "           0,     0,     0,     0,     0,     0,     0,     0,     0,\n",
       "           0,     0,     0,     0,     0,     0,     0,     0,     0,\n",
       "           0,     0,     0,     0,     0,     0,     0,     0,     0,\n",
       "           0,     0,     0,     0,     0,     0,     0,     0,     0,\n",
       "           0,     0,     0,     0,     0,     0,     0,     0,     0,\n",
       "           0,     0,     0,     0,     0,     0,     0,     0,     0,\n",
       "           0,     0,     0,     0])"
      ]
     },
     "execution_count": 22,
     "metadata": {},
     "output_type": "execute_result"
    }
   ],
   "source": [
    "all_data[1,:]"
   ]
  },
  {
   "cell_type": "code",
   "execution_count": 23,
   "metadata": {
    "scrolled": true
   },
   "outputs": [],
   "source": [
    "dataset['sentence index'] = all_data.tolist()"
   ]
  },
  {
   "cell_type": "code",
   "execution_count": 24,
   "metadata": {},
   "outputs": [],
   "source": [
    "# dataset['sentence index']"
   ]
  },
  {
   "cell_type": "code",
   "execution_count": 25,
   "metadata": {
    "scrolled": true
   },
   "outputs": [
    {
     "data": {
      "text/html": [
       "<div>\n",
       "<style scoped>\n",
       "    .dataframe tbody tr th:only-of-type {\n",
       "        vertical-align: middle;\n",
       "    }\n",
       "\n",
       "    .dataframe tbody tr th {\n",
       "        vertical-align: top;\n",
       "    }\n",
       "\n",
       "    .dataframe thead th {\n",
       "        text-align: right;\n",
       "    }\n",
       "</style>\n",
       "<table border=\"1\" class=\"dataframe\">\n",
       "  <thead>\n",
       "    <tr style=\"text-align: right;\">\n",
       "      <th></th>\n",
       "      <th>label</th>\n",
       "      <th>sentence</th>\n",
       "      <th>clean sentence</th>\n",
       "      <th>sentence index</th>\n",
       "    </tr>\n",
       "  </thead>\n",
       "  <tbody>\n",
       "    <tr>\n",
       "      <th>1497</th>\n",
       "      <td>1</td>\n",
       "      <td>同志们.我三四个月住了这酒店至少十一二次.不图什么.就是安静点.上次他们大堂经理跟我说住十次...</td>\n",
       "      <td>同志 们  我 三四个 月 住 了 这 酒店 至少 十一 二次  不图 什么  就是 安静 ...</td>\n",
       "      <td>[2919, 625, 6, 5537, 45, 17, 3, 82, 4, 833, 21...</td>\n",
       "    </tr>\n",
       "    <tr>\n",
       "      <th>4276</th>\n",
       "      <td>1</td>\n",
       "      <td>帮朋友预定了两天，以下是他的评价：优点：1、服务热情，态度很好。2、送双早。3、房间干净，客...</td>\n",
       "      <td>帮 朋友 预定 了 两天  以下 是 他 的 评价  优点  1  服务 热情  态度 很 ...</td>\n",
       "      <td>[308, 156, 140, 3, 512, 1206, 5, 188, 2, 341, ...</td>\n",
       "    </tr>\n",
       "    <tr>\n",
       "      <th>1888</th>\n",
       "      <td>1</td>\n",
       "      <td>典型的快捷酒店的风格，房间不错，淋浴很舒服,早餐十分的丰盛,在郑州当地此酒店好象十分的出名</td>\n",
       "      <td>典型 的 快捷酒店 的 风格  房间 不错  淋浴 很 舒服  早餐 十分 的 丰盛  在 ...</td>\n",
       "      <td>[1736, 2, 1806, 2, 874, 7, 21, 534, 8, 204, 33...</td>\n",
       "    </tr>\n",
       "    <tr>\n",
       "      <th>4452</th>\n",
       "      <td>1</td>\n",
       "      <td>对本酒店的服务，环境，及房间等设施感觉非常满意并感觉物有所值。下次一定再来。</td>\n",
       "      <td>对本 酒店 的 服务  环境  及 房间 等 设施 感觉 非常 满意 并 感觉 物有所值  ...</td>\n",
       "      <td>[2106, 4, 2, 18, 70, 345, 7, 105, 43, 32, 35, ...</td>\n",
       "    </tr>\n",
       "    <tr>\n",
       "      <th>3236</th>\n",
       "      <td>1</td>\n",
       "      <td>环境很好，房间不错，网速还可以。早餐不太丰盛，很多都是辣的。选择也不多，看了一圈也没有什么想...</td>\n",
       "      <td>环境 很 好  房间 不错  网速 还 可以  早餐 不太 丰盛  很多 都 是 辣 的  ...</td>\n",
       "      <td>[70, 8, 20, 7, 21, 860, 15, 26, 33, 519, 1282,...</td>\n",
       "    </tr>\n",
       "  </tbody>\n",
       "</table>\n",
       "</div>"
      ],
      "text/plain": [
       "      label                                           sentence  \\\n",
       "1497      1  同志们.我三四个月住了这酒店至少十一二次.不图什么.就是安静点.上次他们大堂经理跟我说住十次...   \n",
       "4276      1  帮朋友预定了两天，以下是他的评价：优点：1、服务热情，态度很好。2、送双早。3、房间干净，客...   \n",
       "1888      1      典型的快捷酒店的风格，房间不错，淋浴很舒服,早餐十分的丰盛,在郑州当地此酒店好象十分的出名   \n",
       "4452      1             对本酒店的服务，环境，及房间等设施感觉非常满意并感觉物有所值。下次一定再来。   \n",
       "3236      1  环境很好，房间不错，网速还可以。早餐不太丰盛，很多都是辣的。选择也不多，看了一圈也没有什么想...   \n",
       "\n",
       "                                         clean sentence  \\\n",
       "1497  同志 们  我 三四个 月 住 了 这 酒店 至少 十一 二次  不图 什么  就是 安静 ...   \n",
       "4276  帮 朋友 预定 了 两天  以下 是 他 的 评价  优点  1  服务 热情  态度 很 ...   \n",
       "1888  典型 的 快捷酒店 的 风格  房间 不错  淋浴 很 舒服  早餐 十分 的 丰盛  在 ...   \n",
       "4452  对本 酒店 的 服务  环境  及 房间 等 设施 感觉 非常 满意 并 感觉 物有所值  ...   \n",
       "3236  环境 很 好  房间 不错  网速 还 可以  早餐 不太 丰盛  很多 都 是 辣 的  ...   \n",
       "\n",
       "                                         sentence index  \n",
       "1497  [2919, 625, 6, 5537, 45, 17, 3, 82, 4, 833, 21...  \n",
       "4276  [308, 156, 140, 3, 512, 1206, 5, 188, 2, 341, ...  \n",
       "1888  [1736, 2, 1806, 2, 874, 7, 21, 534, 8, 204, 33...  \n",
       "4452  [2106, 4, 2, 18, 70, 345, 7, 105, 43, 32, 35, ...  \n",
       "3236  [70, 8, 20, 7, 21, 860, 15, 26, 33, 519, 1282,...  "
      ]
     },
     "execution_count": 25,
     "metadata": {},
     "output_type": "execute_result"
    }
   ],
   "source": [
    "dataset.head()"
   ]
  },
  {
   "cell_type": "code",
   "execution_count": 26,
   "metadata": {},
   "outputs": [],
   "source": [
    "from sklearn.model_selection import train_test_split\n",
    "X_train, X_test, y_train, y_test = train_test_split(all_data, \n",
    "                                                     dataset['label'], test_size=0.33, random_state=42)"
   ]
  },
  {
   "cell_type": "markdown",
   "metadata": {},
   "source": [
    "# FastText"
   ]
  },
  {
   "cell_type": "code",
   "execution_count": 30,
   "metadata": {},
   "outputs": [],
   "source": [
    "from keras.models import Sequential\n",
    "from keras.layers import Embedding\n",
    "from keras.layers import GlobalAveragePooling1D, Conv1D\n",
    "from keras.layers import Dense\n",
    "from keras.layers import Dropout, BatchNormalization, LSTM\n",
    "from keras import regularizers"
   ]
  },
  {
   "cell_type": "code",
   "execution_count": null,
   "metadata": {},
   "outputs": [],
   "source": []
  },
  {
   "cell_type": "markdown",
   "metadata": {},
   "source": [
    "## Plot accuracy "
   ]
  },
  {
   "cell_type": "code",
   "execution_count": 28,
   "metadata": {},
   "outputs": [],
   "source": [
    "import matplotlib.pyplot as plt\n",
    "def plot_acc(history):\n",
    "    acc = history.history['acc']\n",
    "    val_acc = history.history['val_acc']\n",
    "    loss = history.history['loss']\n",
    "    val_loss = history.history['val_loss']\n",
    "\n",
    "    epochs = range(1, len(acc) + 1)\n",
    "\n",
    "    # \"bo\" is for \"blue dot\"\n",
    "    plt.plot(epochs, acc, 'bo', label='Training acc')\n",
    "    # b is for \"solid blue line\"\n",
    "    plt.plot(epochs, val_acc, 'b', label='Validation acc')\n",
    "    plt.title('Training and validation acc')\n",
    "    plt.xlabel('Epochs')\n",
    "    plt.ylabel('Acc')\n",
    "    plt.legend()\n",
    "\n",
    "    plt.show()"
   ]
  },
  {
   "cell_type": "markdown",
   "metadata": {},
   "source": [
    "### baseline"
   ]
  },
  {
   "cell_type": "code",
   "execution_count": 30,
   "metadata": {},
   "outputs": [],
   "source": [
    "class FastText():\n",
    "    \n",
    "    def __init__(self, VOCAB_SIZE = 2000, EMBEDDING_DIM = 100, MAX_WORDS = 300, CLASS_NUM = 1):\n",
    "        self.VOCAB_SIZE = VOCAB_SIZE\n",
    "        self.EMBEDDING_DIM = EMBEDDING_DIM\n",
    "        self.MAX_WORDS = MAX_WORDS\n",
    "        self.CLASS_NUM = CLASS_NUM\n",
    "        self.model = Sequential()\n",
    "\n",
    "    def build_fastText(self):\n",
    "        \n",
    "        # Embedding 层， 词汇映射为 EMBEDDING_DIM 维度的向量\n",
    "        self.model.add(Embedding(self.VOCAB_SIZE, self.EMBEDDING_DIM,\n",
    "                                 input_length=self.MAX_WORDS))\n",
    "        # 平均文档中的所有单词向量\n",
    "        self.model.add(GlobalAveragePooling1D())\n",
    "        # 输出层使用 SoftMax 分类\n",
    "#         self.model.add(Dense(output_dim=self.CLASS_NUM, activation=\"softmax\"))\n",
    "\n",
    "        # 输出层使用 tf.nn.sigmoid \n",
    "        self.model.add(Dense(output_dim=self.CLASS_NUM, activation=tf.nn.sigmoid))\n",
    "        \n",
    "\n",
    "\n",
    "\n",
    "        # 定义模型的损失函数，优化器和分类度量指标\n",
    "        self.model.compile(loss='binary_crossentropy',\n",
    "                     optimizer=\"adam\",\n",
    "                     metrics=['accuracy'])\n",
    "        print(self.model.summary())\n",
    "        \n",
    "    def train(self, x_train, y_train, x_val, y_val, epochs=40, batch_size=500, verbose=1):\n",
    "        history = self.model.fit(x_train,\n",
    "                    y_train,\n",
    "                    epochs=epochs,\n",
    "                    batch_size=batch_size,\n",
    "                    validation_data=(x_val, y_val),\n",
    "                    verbose=verbose)\n",
    "        return history\n",
    "    \n",
    "    def evaluate(self, test_data, test_labels):\n",
    "        results = self.model.evaluate(test_data, test_labels)\n",
    "        return results"
   ]
  },
  {
   "cell_type": "code",
   "execution_count": 31,
   "metadata": {},
   "outputs": [
    {
     "name": "stderr",
     "output_type": "stream",
     "text": [
      "W0910 11:29:39.807730 13900 deprecation_wrapper.py:119] From D:\\program.successfully\\anaconda3\\lib\\site-packages\\keras\\backend\\tensorflow_backend.py:66: The name tf.get_default_graph is deprecated. Please use tf.compat.v1.get_default_graph instead.\n",
      "\n",
      "W0910 11:29:39.852613 13900 deprecation_wrapper.py:119] From D:\\program.successfully\\anaconda3\\lib\\site-packages\\keras\\backend\\tensorflow_backend.py:541: The name tf.placeholder is deprecated. Please use tf.compat.v1.placeholder instead.\n",
      "\n",
      "W0910 11:29:39.856739 13900 deprecation_wrapper.py:119] From D:\\program.successfully\\anaconda3\\lib\\site-packages\\keras\\backend\\tensorflow_backend.py:4432: The name tf.random_uniform is deprecated. Please use tf.random.uniform instead.\n",
      "\n",
      "D:\\program.successfully\\anaconda3\\lib\\site-packages\\ipykernel_launcher.py:21: UserWarning: Update your `Dense` call to the Keras 2 API: `Dense(activation=<function ..., units=1)`\n",
      "W0910 11:29:39.894497 13900 deprecation_wrapper.py:119] From D:\\program.successfully\\anaconda3\\lib\\site-packages\\keras\\optimizers.py:793: The name tf.train.Optimizer is deprecated. Please use tf.compat.v1.train.Optimizer instead.\n",
      "\n",
      "W0910 11:29:39.923423 13900 deprecation_wrapper.py:119] From D:\\program.successfully\\anaconda3\\lib\\site-packages\\keras\\backend\\tensorflow_backend.py:3657: The name tf.log is deprecated. Please use tf.math.log instead.\n",
      "\n",
      "W0910 11:29:39.940915 13900 deprecation.py:323] From D:\\program.successfully\\anaconda3\\lib\\site-packages\\tensorflow\\python\\ops\\nn_impl.py:180: add_dispatch_support.<locals>.wrapper (from tensorflow.python.ops.array_ops) is deprecated and will be removed in a future version.\n",
      "Instructions for updating:\n",
      "Use tf.where in 2.0, which has the same broadcast rule as np.where\n"
     ]
    },
    {
     "name": "stdout",
     "output_type": "stream",
     "text": [
      "Model: \"sequential_1\"\n",
      "_________________________________________________________________\n",
      "Layer (type)                 Output Shape              Param #   \n",
      "=================================================================\n",
      "embedding_1 (Embedding)      (None, None, 100)         2112200   \n",
      "_________________________________________________________________\n",
      "global_average_pooling1d_1 ( (None, 100)               0         \n",
      "_________________________________________________________________\n",
      "dense_1 (Dense)              (None, 1)                 101       \n",
      "=================================================================\n",
      "Total params: 2,112,301\n",
      "Trainable params: 2,112,301\n",
      "Non-trainable params: 0\n",
      "_________________________________________________________________\n",
      "None\n"
     ]
    },
    {
     "name": "stderr",
     "output_type": "stream",
     "text": [
      "W0910 11:29:40.329918 13900 deprecation_wrapper.py:119] From D:\\program.successfully\\anaconda3\\lib\\site-packages\\keras\\backend\\tensorflow_backend.py:1033: The name tf.assign_add is deprecated. Please use tf.compat.v1.assign_add instead.\n",
      "\n"
     ]
    },
    {
     "name": "stdout",
     "output_type": "stream",
     "text": [
      "Train on 2680 samples, validate on 1320 samples\n",
      "Epoch 1/40\n",
      "2680/2680 [==============================] - 2s 731us/step - loss: 0.6916 - acc: 0.5168 - val_loss: 0.6883 - val_acc: 0.5583\n",
      "Epoch 2/40\n",
      "2680/2680 [==============================] - 1s 385us/step - loss: 0.6894 - acc: 0.5358 - val_loss: 0.6862 - val_acc: 0.5697\n",
      "Epoch 3/40\n",
      "2680/2680 [==============================] - 1s 392us/step - loss: 0.6872 - acc: 0.5515 - val_loss: 0.6839 - val_acc: 0.5803\n",
      "Epoch 4/40\n",
      "2680/2680 [==============================] - 1s 378us/step - loss: 0.6849 - acc: 0.5612 - val_loss: 0.6816 - val_acc: 0.5902\n",
      "Epoch 5/40\n",
      "2680/2680 [==============================] - 1s 385us/step - loss: 0.6823 - acc: 0.5791 - val_loss: 0.6797 - val_acc: 0.5985\n",
      "Epoch 6/40\n",
      "2680/2680 [==============================] - 1s 386us/step - loss: 0.6794 - acc: 0.5948 - val_loss: 0.6773 - val_acc: 0.6068\n",
      "Epoch 7/40\n",
      "2680/2680 [==============================] - 1s 390us/step - loss: 0.6766 - acc: 0.6082 - val_loss: 0.6746 - val_acc: 0.6189\n",
      "Epoch 8/40\n",
      "2680/2680 [==============================] - 1s 381us/step - loss: 0.6735 - acc: 0.6160 - val_loss: 0.6718 - val_acc: 0.6235\n",
      "Epoch 9/40\n",
      "2680/2680 [==============================] - 1s 384us/step - loss: 0.6703 - acc: 0.6276 - val_loss: 0.6696 - val_acc: 0.6288\n",
      "Epoch 10/40\n",
      "2680/2680 [==============================] - 1s 390us/step - loss: 0.6667 - acc: 0.6384 - val_loss: 0.6666 - val_acc: 0.6341\n",
      "Epoch 11/40\n",
      "2680/2680 [==============================] - 1s 387us/step - loss: 0.6633 - acc: 0.6388 - val_loss: 0.6631 - val_acc: 0.6341\n",
      "Epoch 12/40\n",
      "2680/2680 [==============================] - 1s 394us/step - loss: 0.6594 - acc: 0.6425 - val_loss: 0.6601 - val_acc: 0.6477\n",
      "Epoch 13/40\n",
      "2680/2680 [==============================] - 1s 382us/step - loss: 0.6556 - acc: 0.6500 - val_loss: 0.6571 - val_acc: 0.6591\n",
      "Epoch 14/40\n",
      "2680/2680 [==============================] - 1s 390us/step - loss: 0.6515 - acc: 0.6560 - val_loss: 0.6537 - val_acc: 0.6636\n",
      "Epoch 15/40\n",
      "2680/2680 [==============================] - 1s 386us/step - loss: 0.6473 - acc: 0.6616 - val_loss: 0.6506 - val_acc: 0.6682\n",
      "Epoch 16/40\n",
      "2680/2680 [==============================] - 1s 379us/step - loss: 0.6431 - acc: 0.6675 - val_loss: 0.6472 - val_acc: 0.6727\n",
      "Epoch 17/40\n",
      "2680/2680 [==============================] - 1s 380us/step - loss: 0.6388 - acc: 0.6731 - val_loss: 0.6433 - val_acc: 0.6712\n",
      "Epoch 18/40\n",
      "2680/2680 [==============================] - 1s 399us/step - loss: 0.6344 - acc: 0.6743 - val_loss: 0.6391 - val_acc: 0.6689\n",
      "Epoch 19/40\n",
      "2680/2680 [==============================] - 1s 386us/step - loss: 0.6300 - acc: 0.6761 - val_loss: 0.6358 - val_acc: 0.6765\n",
      "Epoch 20/40\n",
      "2680/2680 [==============================] - 1s 389us/step - loss: 0.6253 - acc: 0.6866 - val_loss: 0.6322 - val_acc: 0.6803\n",
      "Epoch 21/40\n",
      "2680/2680 [==============================] - 1s 404us/step - loss: 0.6206 - acc: 0.6948 - val_loss: 0.6285 - val_acc: 0.6841\n",
      "Epoch 22/40\n",
      "2680/2680 [==============================] - 1s 400us/step - loss: 0.6159 - acc: 0.6970 - val_loss: 0.6243 - val_acc: 0.6848\n",
      "Epoch 23/40\n",
      "2680/2680 [==============================] - 1s 387us/step - loss: 0.6114 - acc: 0.6944 - val_loss: 0.6200 - val_acc: 0.6856\n",
      "Epoch 24/40\n",
      "2680/2680 [==============================] - 1s 397us/step - loss: 0.6063 - acc: 0.7056 - val_loss: 0.6174 - val_acc: 0.7030\n",
      "Epoch 25/40\n",
      "2680/2680 [==============================] - 1s 394us/step - loss: 0.6013 - acc: 0.7228 - val_loss: 0.6135 - val_acc: 0.7098\n",
      "Epoch 26/40\n",
      "2680/2680 [==============================] - 1s 395us/step - loss: 0.5962 - acc: 0.7299 - val_loss: 0.6093 - val_acc: 0.7144\n",
      "Epoch 27/40\n",
      "2680/2680 [==============================] - 1s 392us/step - loss: 0.5909 - acc: 0.7302 - val_loss: 0.6046 - val_acc: 0.7114\n",
      "Epoch 28/40\n",
      "2680/2680 [==============================] - 1s 413us/step - loss: 0.5857 - acc: 0.7265 - val_loss: 0.5998 - val_acc: 0.7098\n",
      "Epoch 29/40\n",
      "2680/2680 [==============================] - 1s 408us/step - loss: 0.5802 - acc: 0.7291 - val_loss: 0.5959 - val_acc: 0.7197\n",
      "Epoch 30/40\n",
      "2680/2680 [==============================] - 1s 399us/step - loss: 0.5745 - acc: 0.7489 - val_loss: 0.5925 - val_acc: 0.7379\n",
      "Epoch 31/40\n",
      "2680/2680 [==============================] - 1s 399us/step - loss: 0.5691 - acc: 0.7701 - val_loss: 0.5887 - val_acc: 0.7500\n",
      "Epoch 32/40\n",
      "2680/2680 [==============================] - 1s 393us/step - loss: 0.5633 - acc: 0.7799 - val_loss: 0.5829 - val_acc: 0.7409\n",
      "Epoch 33/40\n",
      "2680/2680 [==============================] - 1s 409us/step - loss: 0.5576 - acc: 0.7679 - val_loss: 0.5780 - val_acc: 0.7417\n",
      "Epoch 34/40\n",
      "2680/2680 [==============================] - 1s 427us/step - loss: 0.5518 - acc: 0.7884 - val_loss: 0.5746 - val_acc: 0.7629\n",
      "Epoch 35/40\n",
      "2680/2680 [==============================] - 1s 440us/step - loss: 0.5457 - acc: 0.8037 - val_loss: 0.5697 - val_acc: 0.7629\n",
      "Epoch 36/40\n",
      "2680/2680 [==============================] - 1s 408us/step - loss: 0.5397 - acc: 0.8000 - val_loss: 0.5639 - val_acc: 0.7530\n",
      "Epoch 37/40\n",
      "2680/2680 [==============================] - 1s 451us/step - loss: 0.5338 - acc: 0.7940 - val_loss: 0.5596 - val_acc: 0.7644\n",
      "Epoch 38/40\n",
      "2680/2680 [==============================] - 1s 480us/step - loss: 0.5275 - acc: 0.8119 - val_loss: 0.5557 - val_acc: 0.7773\n",
      "Epoch 39/40\n",
      "2680/2680 [==============================] - 1s 457us/step - loss: 0.5214 - acc: 0.8231 - val_loss: 0.5517 - val_acc: 0.7902\n",
      "Epoch 40/40\n",
      "2680/2680 [==============================] - 1s 432us/step - loss: 0.5153 - acc: 0.8313 - val_loss: 0.5463 - val_acc: 0.7833\n"
     ]
    }
   ],
   "source": [
    "VOCAB_SIZE = len(word_dictionary) \n",
    "EMBEDDING_DIM = 100\n",
    "WORD_VEC = None # 256\n",
    "CLASS_NUM = 1\n",
    "\n",
    "\n",
    "ft = FastText(VOCAB_SIZE, EMBEDDING_DIM, WORD_VEC, CLASS_NUM)\n",
    "ft.build_fastText()\n",
    "# ft.train(np.array(X_train), np.array(y_train), np.array(X_test), np.array(y_test))\n",
    "\n",
    "history1 = ft.train(np.array(X_train), np.array(y_train), np.array(X_test), np.array(y_test), 40)\n",
    "\n",
    "\n"
   ]
  },
  {
   "cell_type": "code",
   "execution_count": 32,
   "metadata": {},
   "outputs": [
    {
     "data": {
      "image/png": "[encoded data removed]",
      "text/plain": [
       "<Figure size 432x288 with 1 Axes>"
      ]
     },
     "metadata": {
      "needs_background": "light"
     },
     "output_type": "display_data"
    }
   ],
   "source": [
    "plot_acc(history1)"
   ]
  },
  {
   "cell_type": "markdown",
   "metadata": {},
   "source": [
    "### Add dropout layer"
   ]
  },
  {
   "cell_type": "code",
   "execution_count": 33,
   "metadata": {},
   "outputs": [],
   "source": [
    "class FastText2():\n",
    "    \n",
    "    def __init__(self, VOCAB_SIZE = 2000, EMBEDDING_DIM = 100, MAX_WORDS = 300, CLASS_NUM = 1):\n",
    "        self.VOCAB_SIZE = VOCAB_SIZE\n",
    "        self.EMBEDDING_DIM = EMBEDDING_DIM\n",
    "        self.MAX_WORDS = MAX_WORDS\n",
    "        self.CLASS_NUM = CLASS_NUM\n",
    "        self.model = Sequential()\n",
    "\n",
    "    def build_fastText(self):\n",
    "        \n",
    "        # Embedding 层， 词汇映射为 EMBEDDING_DIM 维度的向量\n",
    "        self.model.add(Embedding(self.VOCAB_SIZE, self.EMBEDDING_DIM,\n",
    "                                 input_length=self.MAX_WORDS))\n",
    "        # 平均文档中的所有单词向量\n",
    "        self.model.add(GlobalAveragePooling1D())\n",
    "        # 输出层使用 SoftMax 分类\n",
    "#         self.model.add(Dense(output_dim=self.CLASS_NUM, activation=\"softmax\"))\n",
    "\n",
    "        # 输出层使用 tf.nn.sigmoid \n",
    "        self.model.add(Dense(output_dim=self.CLASS_NUM, activation=tf.nn.sigmoid))\n",
    "        \n",
    "        # dropout 层\n",
    "        self.model.add(Dropout(0.25)) \n",
    "        \n",
    "\n",
    "\n",
    "\n",
    "        # 定义模型的损失函数，优化器和分类度量指标\n",
    "        self.model.compile(loss='binary_crossentropy',\n",
    "                     optimizer=\"adam\",\n",
    "                     metrics=['accuracy'])\n",
    "        print(self.model.summary())\n",
    "        \n",
    "    def train(self, x_train, y_train, x_val, y_val, epochs=40, batch_size=500, verbose=1):\n",
    "        history = self.model.fit(x_train,\n",
    "                    y_train,\n",
    "                    epochs=epochs,\n",
    "                    batch_size=batch_size,\n",
    "                    validation_data=(x_val, y_val),\n",
    "                    verbose=verbose)\n",
    "        return history\n",
    "    \n",
    "    def evaluate(self, test_data, test_labels):\n",
    "        results = self.model.evaluate(test_data, test_labels)\n",
    "        return results"
   ]
  },
  {
   "cell_type": "code",
   "execution_count": 34,
   "metadata": {},
   "outputs": [
    {
     "name": "stderr",
     "output_type": "stream",
     "text": [
      "D:\\program.successfully\\anaconda3\\lib\\site-packages\\ipykernel_launcher.py:21: UserWarning: Update your `Dense` call to the Keras 2 API: `Dense(activation=<function ..., units=1)`\n",
      "W0910 11:30:25.152342 13900 deprecation.py:506] From D:\\program.successfully\\anaconda3\\lib\\site-packages\\keras\\backend\\tensorflow_backend.py:3733: calling dropout (from tensorflow.python.ops.nn_ops) with keep_prob is deprecated and will be removed in a future version.\n",
      "Instructions for updating:\n",
      "Please use `rate` instead of `keep_prob`. Rate should be set to `rate = 1 - keep_prob`.\n"
     ]
    },
    {
     "name": "stdout",
     "output_type": "stream",
     "text": [
      "Model: \"sequential_2\"\n",
      "_________________________________________________________________\n",
      "Layer (type)                 Output Shape              Param #   \n",
      "=================================================================\n",
      "embedding_2 (Embedding)      (None, None, 100)         2112200   \n",
      "_________________________________________________________________\n",
      "global_average_pooling1d_2 ( (None, 100)               0         \n",
      "_________________________________________________________________\n",
      "dense_2 (Dense)              (None, 1)                 101       \n",
      "_________________________________________________________________\n",
      "dropout_1 (Dropout)          (None, 1)                 0         \n",
      "=================================================================\n",
      "Total params: 2,112,301\n",
      "Trainable params: 2,112,301\n",
      "Non-trainable params: 0\n",
      "_________________________________________________________________\n",
      "None\n",
      "Train on 2680 samples, validate on 1320 samples\n",
      "Epoch 1/40\n",
      "2680/2680 [==============================] - 2s 736us/step - loss: 2.6135 - acc: 0.4761 - val_loss: 0.6979 - val_acc: 0.4788\n",
      "Epoch 2/40\n",
      "2680/2680 [==============================] - 1s 389us/step - loss: 2.4887 - acc: 0.4896 - val_loss: 0.7021 - val_acc: 0.4788\n",
      "Epoch 3/40\n",
      "2680/2680 [==============================] - 1s 386us/step - loss: 2.4934 - acc: 0.4922 - val_loss: 0.7078 - val_acc: 0.4788\n",
      "Epoch 4/40\n",
      "2680/2680 [==============================] - 1s 384us/step - loss: 2.4145 - acc: 0.4922 - val_loss: 0.7140 - val_acc: 0.4788\n",
      "Epoch 5/40\n",
      "2680/2680 [==============================] - 1s 388us/step - loss: 2.5268 - acc: 0.5026 - val_loss: 0.7201 - val_acc: 0.4788\n",
      "Epoch 6/40\n",
      "2680/2680 [==============================] - 1s 404us/step - loss: 2.4004 - acc: 0.5045 - val_loss: 0.7252 - val_acc: 0.4788\n",
      "Epoch 7/40\n",
      "2680/2680 [==============================] - 1s 389us/step - loss: 2.3819 - acc: 0.5116 - val_loss: 0.7285 - val_acc: 0.4788\n",
      "Epoch 8/40\n",
      "2680/2680 [==============================] - 1s 382us/step - loss: 2.4364 - acc: 0.5138 - val_loss: 0.7286 - val_acc: 0.4788\n",
      "Epoch 9/40\n",
      "2680/2680 [==============================] - 1s 383us/step - loss: 2.4390 - acc: 0.5437 - val_loss: 0.7264 - val_acc: 0.4788\n",
      "Epoch 10/40\n",
      "2680/2680 [==============================] - 1s 383us/step - loss: 2.5645 - acc: 0.5787 - val_loss: 0.7245 - val_acc: 0.4788\n",
      "Epoch 11/40\n",
      "2680/2680 [==============================] - 1s 385us/step - loss: 2.5748 - acc: 0.6287 - val_loss: 0.7226 - val_acc: 0.4788\n",
      "Epoch 12/40\n",
      "2680/2680 [==============================] - 1s 389us/step - loss: 2.4692 - acc: 0.6896 - val_loss: 0.7203 - val_acc: 0.4788\n",
      "Epoch 13/40\n",
      "2680/2680 [==============================] - 1s 392us/step - loss: 2.4050 - acc: 0.6780 - val_loss: 0.7159 - val_acc: 0.4788\n",
      "Epoch 14/40\n",
      "2680/2680 [==============================] - 1s 393us/step - loss: 2.5181 - acc: 0.6541 - val_loss: 0.7123 - val_acc: 0.4788\n",
      "Epoch 15/40\n",
      "2680/2680 [==============================] - 1s 383us/step - loss: 2.3180 - acc: 0.6578 - val_loss: 0.7068 - val_acc: 0.4788\n",
      "Epoch 16/40\n",
      "2680/2680 [==============================] - 1s 394us/step - loss: 2.3099 - acc: 0.6485 - val_loss: 0.7014 - val_acc: 0.4788\n",
      "Epoch 17/40\n",
      "2680/2680 [==============================] - 1s 391us/step - loss: 2.3092 - acc: 0.6396 - val_loss: 0.6971 - val_acc: 0.4788\n",
      "Epoch 18/40\n",
      "2680/2680 [==============================] - 1s 389us/step - loss: 2.3232 - acc: 0.6343 - val_loss: 0.6946 - val_acc: 0.4788\n",
      "Epoch 19/40\n",
      "2680/2680 [==============================] - 1s 383us/step - loss: 2.5234 - acc: 0.6299 - val_loss: 0.6923 - val_acc: 0.4788\n",
      "Epoch 20/40\n",
      "2680/2680 [==============================] - 1s 396us/step - loss: 2.4162 - acc: 0.6481 - val_loss: 0.6899 - val_acc: 0.4788\n",
      "Epoch 21/40\n",
      "2680/2680 [==============================] - 1s 408us/step - loss: 2.2509 - acc: 0.6571 - val_loss: 0.6859 - val_acc: 0.4788\n",
      "Epoch 22/40\n",
      "2680/2680 [==============================] - 1s 418us/step - loss: 2.5036 - acc: 0.6399 - val_loss: 0.6832 - val_acc: 0.4788\n",
      "Epoch 23/40\n",
      "2680/2680 [==============================] - 1s 415us/step - loss: 2.4977 - acc: 0.6489 - val_loss: 0.6807 - val_acc: 0.4788\n",
      "Epoch 24/40\n",
      "2680/2680 [==============================] - 1s 409us/step - loss: 2.5098 - acc: 0.6530 - val_loss: 0.6785 - val_acc: 0.4788\n",
      "Epoch 25/40\n",
      "2680/2680 [==============================] - 1s 402us/step - loss: 2.4430 - acc: 0.6631 - val_loss: 0.6770 - val_acc: 0.4788\n",
      "Epoch 26/40\n",
      "2680/2680 [==============================] - 1s 405us/step - loss: 2.3133 - acc: 0.6757 - val_loss: 0.6733 - val_acc: 0.4788\n",
      "Epoch 27/40\n",
      "2680/2680 [==============================] - 1s 384us/step - loss: 2.4823 - acc: 0.6627 - val_loss: 0.6664 - val_acc: 0.4788\n",
      "Epoch 28/40\n",
      "2680/2680 [==============================] - 1s 405us/step - loss: 2.4267 - acc: 0.6679 - val_loss: 0.6613 - val_acc: 0.4788\n",
      "Epoch 29/40\n",
      "2680/2680 [==============================] - 1s 398us/step - loss: 2.5678 - acc: 0.6646 - val_loss: 0.6579 - val_acc: 0.4788\n",
      "Epoch 30/40\n",
      "2680/2680 [==============================] - 1s 426us/step - loss: 2.4978 - acc: 0.6687 - val_loss: 0.6580 - val_acc: 0.4788\n",
      "Epoch 31/40\n",
      "2680/2680 [==============================] - 1s 409us/step - loss: 2.4631 - acc: 0.6858 - val_loss: 0.6578 - val_acc: 0.4795\n",
      "Epoch 32/40\n",
      "2680/2680 [==============================] - 1s 393us/step - loss: 2.3396 - acc: 0.6970 - val_loss: 0.6526 - val_acc: 0.4818\n",
      "Epoch 33/40\n",
      "2680/2680 [==============================] - 1s 382us/step - loss: 2.4794 - acc: 0.6817 - val_loss: 0.6453 - val_acc: 0.4902\n",
      "Epoch 34/40\n",
      "2680/2680 [==============================] - 1s 388us/step - loss: 2.3946 - acc: 0.6858 - val_loss: 0.6404 - val_acc: 0.4962\n",
      "Epoch 35/40\n",
      "2680/2680 [==============================] - 1s 383us/step - loss: 2.4135 - acc: 0.6951 - val_loss: 0.6369 - val_acc: 0.5023\n",
      "Epoch 36/40\n",
      "2680/2680 [==============================] - 1s 391us/step - loss: 2.3639 - acc: 0.7019 - val_loss: 0.6321 - val_acc: 0.5114\n",
      "Epoch 37/40\n",
      "2680/2680 [==============================] - 1s 393us/step - loss: 2.4746 - acc: 0.6933 - val_loss: 0.6298 - val_acc: 0.5136\n",
      "Epoch 38/40\n",
      "2680/2680 [==============================] - 1s 379us/step - loss: 2.3743 - acc: 0.7175 - val_loss: 0.6263 - val_acc: 0.5220\n",
      "Epoch 39/40\n",
      "2680/2680 [==============================] - 1s 381us/step - loss: 2.2801 - acc: 0.7187 - val_loss: 0.6155 - val_acc: 0.5765\n",
      "Epoch 40/40\n",
      "2680/2680 [==============================] - 1s 384us/step - loss: 2.3218 - acc: 0.7060 - val_loss: 0.6115 - val_acc: 0.5856\n"
     ]
    }
   ],
   "source": [
    "VOCAB_SIZE = len(word_dictionary) \n",
    "EMBEDDING_DIM = 100\n",
    "WORD_VEC = None # 256\n",
    "CLASS_NUM = 1\n",
    "\n",
    "\n",
    "ft2 = FastText2(VOCAB_SIZE, EMBEDDING_DIM, WORD_VEC, CLASS_NUM)\n",
    "ft2.build_fastText()\n",
    "# ft.train(np.array(X_train), np.array(y_train), np.array(X_test), np.array(y_test))\n",
    "\n",
    "\n",
    "history2 = ft2.train(np.array(X_train), np.array(y_train), np.array(X_test), np.array(y_test),40)\n",
    "\n"
   ]
  },
  {
   "cell_type": "code",
   "execution_count": 35,
   "metadata": {},
   "outputs": [
    {
     "data": {
      "image/png": "[encoded data removed]",
      "text/plain": [
       "<Figure size 432x288 with 1 Axes>"
      ]
     },
     "metadata": {
      "needs_background": "light"
     },
     "output_type": "display_data"
    }
   ],
   "source": [
    "plot_acc(history2)"
   ]
  },
  {
   "cell_type": "markdown",
   "metadata": {},
   "source": [
    "### add normalization"
   ]
  },
  {
   "cell_type": "code",
   "execution_count": 36,
   "metadata": {},
   "outputs": [],
   "source": [
    "class FastText3():\n",
    "    \n",
    "    def __init__(self, VOCAB_SIZE = 2000, EMBEDDING_DIM = 100, MAX_WORDS = 300, CLASS_NUM = 1):\n",
    "        self.VOCAB_SIZE = VOCAB_SIZE\n",
    "        self.EMBEDDING_DIM = EMBEDDING_DIM\n",
    "        self.MAX_WORDS = MAX_WORDS\n",
    "        self.CLASS_NUM = CLASS_NUM\n",
    "        self.model = Sequential()\n",
    "\n",
    "    def build_fastText(self):\n",
    "        \n",
    "        # Embedding 层， 词汇映射为 EMBEDDING_DIM 维度的向量\n",
    "        self.model.add(Embedding(self.VOCAB_SIZE, self.EMBEDDING_DIM,\n",
    "                                 input_length=self.MAX_WORDS))\n",
    "        # 平均文档中的所有单词向量\n",
    "        self.model.add(GlobalAveragePooling1D())\n",
    "        \n",
    "        # Normalization\n",
    "        self.model.add(BatchNormalization(axis=-1, momentum=0.99, epsilon=0.001, \n",
    "                                                   center=True, scale=True, \n",
    "                                                   beta_initializer='zeros', gamma_initializer='ones', \n",
    "                                                   moving_mean_initializer='zeros', \n",
    "                                                   moving_variance_initializer='ones'))\n",
    "        \n",
    "        # 输出层使用 SoftMax 分类\n",
    "#         self.model.add(Dense(output_dim=self.CLASS_NUM, activation=\"softmax\"))\n",
    "\n",
    "        # 输出层使用 tf.nn.sigmoid \n",
    "        self.model.add(Dense(output_dim=self.CLASS_NUM, activation=tf.nn.sigmoid))\n",
    "        \n",
    "        # dropout 层\n",
    "        self.model.add(Dropout(0.25))\n",
    "        \n",
    "\n",
    "\n",
    "\n",
    "        # 定义模型的损失函数，优化器和分类度量指标\n",
    "        self.model.compile(loss='binary_crossentropy',\n",
    "                     optimizer=\"adam\",\n",
    "                     metrics=['accuracy'])\n",
    "        print(self.model.summary())\n",
    "        \n",
    "    def train(self, x_train, y_train, x_val, y_val, epochs=40, batch_size=500, verbose=1):\n",
    "        history = self.model.fit(x_train,\n",
    "                    y_train,\n",
    "                    epochs=epochs,\n",
    "                    batch_size=batch_size,\n",
    "                    validation_data=(x_val, y_val),\n",
    "                    verbose=verbose)\n",
    "        return history\n",
    "    \n",
    "    def evaluate(self, test_data, test_labels):\n",
    "        results = self.model.evaluate(test_data, test_labels)\n",
    "        return results"
   ]
  },
  {
   "cell_type": "code",
   "execution_count": 37,
   "metadata": {
    "scrolled": true
   },
   "outputs": [
    {
     "name": "stderr",
     "output_type": "stream",
     "text": [
      "D:\\program.successfully\\anaconda3\\lib\\site-packages\\ipykernel_launcher.py:29: UserWarning: Update your `Dense` call to the Keras 2 API: `Dense(activation=<function ..., units=1)`\n"
     ]
    },
    {
     "name": "stdout",
     "output_type": "stream",
     "text": [
      "Model: \"sequential_3\"\n",
      "_________________________________________________________________\n",
      "Layer (type)                 Output Shape              Param #   \n",
      "=================================================================\n",
      "embedding_3 (Embedding)      (None, None, 100)         2112200   \n",
      "_________________________________________________________________\n",
      "global_average_pooling1d_3 ( (None, 100)               0         \n",
      "_________________________________________________________________\n",
      "batch_normalization_1 (Batch (None, 100)               400       \n",
      "_________________________________________________________________\n",
      "dense_3 (Dense)              (None, 1)                 101       \n",
      "_________________________________________________________________\n",
      "dropout_2 (Dropout)          (None, 1)                 0         \n",
      "=================================================================\n",
      "Total params: 2,112,701\n",
      "Trainable params: 2,112,501\n",
      "Non-trainable params: 200\n",
      "_________________________________________________________________\n",
      "None\n",
      "Train on 2680 samples, validate on 1320 samples\n",
      "Epoch 1/40\n",
      "2680/2680 [==============================] - 2s 875us/step - loss: 2.4460 - acc: 0.5358 - val_loss: 0.6417 - val_acc: 0.6152\n",
      "Epoch 2/40\n",
      "2680/2680 [==============================] - 1s 398us/step - loss: 2.5878 - acc: 0.5701 - val_loss: 0.6320 - val_acc: 0.5864\n",
      "Epoch 3/40\n",
      "2680/2680 [==============================] - 1s 394us/step - loss: 2.4909 - acc: 0.6075 - val_loss: 0.6294 - val_acc: 0.5311\n",
      "Epoch 4/40\n",
      "2680/2680 [==============================] - 1s 387us/step - loss: 2.3130 - acc: 0.6761 - val_loss: 0.5706 - val_acc: 0.8098\n",
      "Epoch 5/40\n",
      "2680/2680 [==============================] - 1s 393us/step - loss: 2.2843 - acc: 0.6877 - val_loss: 0.5481 - val_acc: 0.8205\n",
      "Epoch 6/40\n",
      "2680/2680 [==============================] - 1s 389us/step - loss: 2.1932 - acc: 0.7470 - val_loss: 0.5582 - val_acc: 0.6667\n",
      "Epoch 7/40\n",
      "2680/2680 [==============================] - 1s 403us/step - loss: 2.2278 - acc: 0.7806 - val_loss: 0.5123 - val_acc: 0.8280\n",
      "Epoch 8/40\n",
      "2680/2680 [==============================] - 1s 396us/step - loss: 2.2191 - acc: 0.7840 - val_loss: 0.4895 - val_acc: 0.8447\n",
      "Epoch 9/40\n",
      "2680/2680 [==============================] - 1s 395us/step - loss: 2.1954 - acc: 0.7907 - val_loss: 0.4925 - val_acc: 0.7962\n",
      "Epoch 10/40\n",
      "2680/2680 [==============================] - 1s 398us/step - loss: 2.2434 - acc: 0.8041 - val_loss: 0.4710 - val_acc: 0.8189\n",
      "Epoch 11/40\n",
      "2680/2680 [==============================] - 1s 388us/step - loss: 2.1479 - acc: 0.8157 - val_loss: 0.4413 - val_acc: 0.8652\n",
      "Epoch 12/40\n",
      "2680/2680 [==============================] - 1s 394us/step - loss: 2.1303 - acc: 0.8153 - val_loss: 0.4352 - val_acc: 0.8545\n",
      "Epoch 13/40\n",
      "2680/2680 [==============================] - 1s 397us/step - loss: 2.0791 - acc: 0.8325 - val_loss: 0.4309 - val_acc: 0.8462\n",
      "Epoch 14/40\n",
      "2680/2680 [==============================] - 1s 393us/step - loss: 2.2275 - acc: 0.8287 - val_loss: 0.4182 - val_acc: 0.8530\n",
      "Epoch 15/40\n",
      "2680/2680 [==============================] - 1s 396us/step - loss: 2.3000 - acc: 0.8265 - val_loss: 0.4072 - val_acc: 0.8644\n",
      "Epoch 16/40\n",
      "2680/2680 [==============================] - 1s 391us/step - loss: 2.3881 - acc: 0.8228 - val_loss: 0.4135 - val_acc: 0.8356\n",
      "Epoch 17/40\n",
      "2680/2680 [==============================] - 1s 399us/step - loss: 2.1408 - acc: 0.8422 - val_loss: 0.4047 - val_acc: 0.8447\n",
      "Epoch 18/40\n",
      "2680/2680 [==============================] - 1s 392us/step - loss: 1.9677 - acc: 0.8541 - val_loss: 0.3916 - val_acc: 0.8280\n",
      "Epoch 19/40\n",
      "2680/2680 [==============================] - 1s 395us/step - loss: 2.3099 - acc: 0.8287 - val_loss: 0.3822 - val_acc: 0.8379\n",
      "Epoch 20/40\n",
      "2680/2680 [==============================] - 1s 409us/step - loss: 2.0099 - acc: 0.8530 - val_loss: 0.3828 - val_acc: 0.8644\n",
      "Epoch 21/40\n",
      "2680/2680 [==============================] - 1s 389us/step - loss: 2.1615 - acc: 0.8481 - val_loss: 0.3698 - val_acc: 0.8682\n",
      "Epoch 22/40\n",
      "2680/2680 [==============================] - 1s 392us/step - loss: 1.9957 - acc: 0.8522 - val_loss: 0.3920 - val_acc: 0.8379\n",
      "Epoch 23/40\n",
      "2680/2680 [==============================] - 1s 393us/step - loss: 2.0211 - acc: 0.8593 - val_loss: 0.4215 - val_acc: 0.7909\n",
      "Epoch 24/40\n",
      "2680/2680 [==============================] - 1s 398us/step - loss: 1.9332 - acc: 0.8679 - val_loss: 0.3825 - val_acc: 0.8265\n",
      "Epoch 25/40\n",
      "2680/2680 [==============================] - 1s 394us/step - loss: 2.0279 - acc: 0.8526 - val_loss: 0.3968 - val_acc: 0.8053\n",
      "Epoch 26/40\n",
      "2680/2680 [==============================] - 1s 390us/step - loss: 2.1392 - acc: 0.8563 - val_loss: 0.3875 - val_acc: 0.8364\n",
      "Epoch 27/40\n",
      "2680/2680 [==============================] - 1s 389us/step - loss: 1.9175 - acc: 0.8672 - val_loss: 0.3562 - val_acc: 0.8758\n",
      "Epoch 28/40\n",
      "2680/2680 [==============================] - 1s 398us/step - loss: 2.0096 - acc: 0.8660 - val_loss: 0.3587 - val_acc: 0.8553\n",
      "Epoch 29/40\n",
      "2680/2680 [==============================] - 1s 401us/step - loss: 2.0450 - acc: 0.8631 - val_loss: 0.3520 - val_acc: 0.8727\n",
      "Epoch 30/40\n",
      "2680/2680 [==============================] - 1s 385us/step - loss: 1.9769 - acc: 0.8694 - val_loss: 0.3541 - val_acc: 0.8614\n",
      "Epoch 31/40\n",
      "2680/2680 [==============================] - 1s 387us/step - loss: 2.2166 - acc: 0.8496 - val_loss: 0.3504 - val_acc: 0.8727\n",
      "Epoch 32/40\n",
      "2680/2680 [==============================] - 1s 394us/step - loss: 1.9721 - acc: 0.8701 - val_loss: 0.3548 - val_acc: 0.8705\n",
      "Epoch 33/40\n",
      "2680/2680 [==============================] - 1s 394us/step - loss: 2.1592 - acc: 0.8575 - val_loss: 0.3504 - val_acc: 0.8659\n",
      "Epoch 34/40\n",
      "2680/2680 [==============================] - 1s 398us/step - loss: 2.0132 - acc: 0.8657 - val_loss: 0.3482 - val_acc: 0.8727\n",
      "Epoch 35/40\n",
      "2680/2680 [==============================] - 1s 393us/step - loss: 2.0719 - acc: 0.8649 - val_loss: 0.3528 - val_acc: 0.8705\n",
      "Epoch 36/40\n",
      "2680/2680 [==============================] - 1s 395us/step - loss: 2.1077 - acc: 0.8631 - val_loss: 0.3512 - val_acc: 0.8629\n",
      "Epoch 37/40\n",
      "2680/2680 [==============================] - 1s 396us/step - loss: 2.0713 - acc: 0.8653 - val_loss: 0.3476 - val_acc: 0.8720\n",
      "Epoch 38/40\n",
      "2680/2680 [==============================] - 1s 390us/step - loss: 2.1302 - acc: 0.8619 - val_loss: 0.3662 - val_acc: 0.8553\n",
      "Epoch 39/40\n",
      "2680/2680 [==============================] - 1s 399us/step - loss: 1.9838 - acc: 0.8701 - val_loss: 0.3486 - val_acc: 0.8697\n",
      "Epoch 40/40\n",
      "2680/2680 [==============================] - 1s 392us/step - loss: 1.9851 - acc: 0.8709 - val_loss: 0.3486 - val_acc: 0.8682\n"
     ]
    }
   ],
   "source": [
    "VOCAB_SIZE = len(word_dictionary) \n",
    "EMBEDDING_DIM = 100\n",
    "WORD_VEC = None # 256\n",
    "CLASS_NUM = 1\n",
    "\n",
    "\n",
    "ft3 = FastText3(VOCAB_SIZE, EMBEDDING_DIM, WORD_VEC, CLASS_NUM)\n",
    "ft3.build_fastText()\n",
    "# ft.train(np.array(X_train), np.array(y_train), np.array(X_test), np.array(y_test))\n",
    "\n",
    "history3 = ft3.train(np.array(X_train), np.array(y_train), np.array(X_test), np.array(y_test),40)\n"
   ]
  },
  {
   "cell_type": "code",
   "execution_count": 38,
   "metadata": {
    "scrolled": false
   },
   "outputs": [
    {
     "data": {
      "image/png": "[encoded data removed]",
      "text/plain": [
       "<Figure size 432x288 with 1 Axes>"
      ]
     },
     "metadata": {
      "needs_background": "light"
     },
     "output_type": "display_data"
    }
   ],
   "source": [
    "plot_acc(history3)"
   ]
  },
  {
   "cell_type": "markdown",
   "metadata": {},
   "source": [
    "### Add regularizer"
   ]
  },
  {
   "cell_type": "code",
   "execution_count": 39,
   "metadata": {},
   "outputs": [],
   "source": [
    "class FastText4():\n",
    "    \n",
    "    def __init__(self, VOCAB_SIZE = 2000, EMBEDDING_DIM = 100, MAX_WORDS = 300, CLASS_NUM = 1):\n",
    "        self.VOCAB_SIZE = VOCAB_SIZE\n",
    "        self.EMBEDDING_DIM = EMBEDDING_DIM\n",
    "        self.MAX_WORDS = MAX_WORDS\n",
    "        self.CLASS_NUM = CLASS_NUM\n",
    "        self.model = Sequential()\n",
    "\n",
    "    def build_fastText(self):\n",
    "        \n",
    "        # Embedding 层， 词汇映射为 EMBEDDING_DIM 维度的向量\n",
    "        self.model.add(Embedding(self.VOCAB_SIZE, self.EMBEDDING_DIM,\n",
    "                                 input_length=self.MAX_WORDS))\n",
    "        # 平均文档中的所有单词向量\n",
    "        self.model.add(GlobalAveragePooling1D())\n",
    "        \n",
    "        # Normalization\n",
    "        self.model.add(BatchNormalization(axis=-1, momentum=0.99, epsilon=0.001, \n",
    "                                                   center=True, scale=True, \n",
    "                                                   beta_initializer='zeros', gamma_initializer='ones', \n",
    "                                                   moving_mean_initializer='zeros', \n",
    "                                                   moving_variance_initializer='ones'))\n",
    "        \n",
    "        # 输出层使用 SoftMax 分类\n",
    "#         self.model.add(Dense(output_dim=self.CLASS_NUM, activation=\"softmax\"))\n",
    "\n",
    "        # 输出层使用 tf.nn.sigmoid \n",
    "        self.model.add(Dense(output_dim=self.CLASS_NUM, \n",
    "                             kernel_regularizer=regularizers.l2(0.01),activation=tf.nn.sigmoid))\n",
    "        \n",
    "        # dropout 层\n",
    "        self.model.add(Dropout(0.25))\n",
    "        \n",
    "\n",
    "\n",
    "\n",
    "        # 定义模型的损失函数，优化器和分类度量指标\n",
    "        self.model.compile(loss='binary_crossentropy',\n",
    "                     optimizer=\"adam\",\n",
    "                     metrics=['accuracy'])\n",
    "        print(self.model.summary())\n",
    "        \n",
    "    def train(self, x_train, y_train, x_val, y_val, epochs=40, batch_size=500, verbose=1):\n",
    "        history = self.model.fit(x_train,\n",
    "                    y_train,\n",
    "                    epochs=epochs,\n",
    "                    batch_size=batch_size,\n",
    "                    validation_data=(x_val, y_val),\n",
    "                    verbose=verbose)\n",
    "        return history\n",
    "    \n",
    "    def evaluate(self, test_data, test_labels):\n",
    "        results = self.model.evaluate(test_data, test_labels)\n",
    "        return results"
   ]
  },
  {
   "cell_type": "code",
   "execution_count": 40,
   "metadata": {},
   "outputs": [
    {
     "name": "stderr",
     "output_type": "stream",
     "text": [
      "D:\\program.successfully\\anaconda3\\lib\\site-packages\\ipykernel_launcher.py:30: UserWarning: Update your `Dense` call to the Keras 2 API: `Dense(kernel_regularizer=<keras.reg..., activation=<function ..., units=1)`\n"
     ]
    },
    {
     "name": "stdout",
     "output_type": "stream",
     "text": [
      "Model: \"sequential_4\"\n",
      "_________________________________________________________________\n",
      "Layer (type)                 Output Shape              Param #   \n",
      "=================================================================\n",
      "embedding_4 (Embedding)      (None, None, 100)         2112200   \n",
      "_________________________________________________________________\n",
      "global_average_pooling1d_4 ( (None, 100)               0         \n",
      "_________________________________________________________________\n",
      "batch_normalization_2 (Batch (None, 100)               400       \n",
      "_________________________________________________________________\n",
      "dense_4 (Dense)              (None, 1)                 101       \n",
      "_________________________________________________________________\n",
      "dropout_3 (Dropout)          (None, 1)                 0         \n",
      "=================================================================\n",
      "Total params: 2,112,701\n",
      "Trainable params: 2,112,501\n",
      "Non-trainable params: 200\n",
      "_________________________________________________________________\n",
      "None\n",
      "Train on 2680 samples, validate on 1320 samples\n",
      "Epoch 1/40\n",
      "2680/2680 [==============================] - 2s 931us/step - loss: 2.6476 - acc: 0.5019 - val_loss: 0.6616 - val_acc: 0.6386\n",
      "Epoch 2/40\n",
      "2680/2680 [==============================] - 1s 396us/step - loss: 2.4413 - acc: 0.5675 - val_loss: 0.6525 - val_acc: 0.5909\n",
      "Epoch 3/40\n",
      "2680/2680 [==============================] - 1s 389us/step - loss: 2.4331 - acc: 0.6063 - val_loss: 0.6468 - val_acc: 0.5402\n",
      "Epoch 4/40\n",
      "2680/2680 [==============================] - 1s 393us/step - loss: 2.4188 - acc: 0.6466 - val_loss: 0.5910 - val_acc: 0.8091\n",
      "Epoch 5/40\n",
      "2680/2680 [==============================] - 1s 395us/step - loss: 2.4788 - acc: 0.6731 - val_loss: 0.6069 - val_acc: 0.6167\n",
      "Epoch 6/40\n",
      "2680/2680 [==============================] - 1s 394us/step - loss: 2.1759 - acc: 0.7500 - val_loss: 0.5716 - val_acc: 0.7424\n",
      "Epoch 7/40\n",
      "2680/2680 [==============================] - 1s 393us/step - loss: 2.3838 - acc: 0.7403 - val_loss: 0.5392 - val_acc: 0.8394\n",
      "Epoch 8/40\n",
      "2680/2680 [==============================] - 1s 385us/step - loss: 2.3682 - acc: 0.7627 - val_loss: 0.5646 - val_acc: 0.6765\n",
      "Epoch 9/40\n",
      "2680/2680 [==============================] - 1s 391us/step - loss: 2.1231 - acc: 0.8071 - val_loss: 0.5426 - val_acc: 0.7280\n",
      "Epoch 10/40\n",
      "2680/2680 [==============================] - 1s 388us/step - loss: 2.4891 - acc: 0.7888 - val_loss: 0.4971 - val_acc: 0.8492\n",
      "Epoch 11/40\n",
      "2680/2680 [==============================] - 1s 387us/step - loss: 2.2555 - acc: 0.8022 - val_loss: 0.5029 - val_acc: 0.8030\n",
      "Epoch 12/40\n",
      "2680/2680 [==============================] - 1s 404us/step - loss: 2.2440 - acc: 0.8149 - val_loss: 0.4811 - val_acc: 0.8424\n",
      "Epoch 13/40\n",
      "2680/2680 [==============================] - 1s 413us/step - loss: 2.2041 - acc: 0.8220 - val_loss: 0.4790 - val_acc: 0.8235\n",
      "Epoch 14/40\n",
      "2680/2680 [==============================] - 1s 407us/step - loss: 2.1510 - acc: 0.8321 - val_loss: 0.4636 - val_acc: 0.8485\n",
      "Epoch 15/40\n",
      "2680/2680 [==============================] - 1s 389us/step - loss: 2.1665 - acc: 0.8302 - val_loss: 0.4482 - val_acc: 0.8667\n",
      "Epoch 16/40\n",
      "2680/2680 [==============================] - 1s 390us/step - loss: 2.3392 - acc: 0.8280 - val_loss: 0.4690 - val_acc: 0.8159\n",
      "Epoch 17/40\n",
      "2680/2680 [==============================] - 1s 393us/step - loss: 2.2734 - acc: 0.8388 - val_loss: 0.4699 - val_acc: 0.8114\n",
      "Epoch 18/40\n",
      "2680/2680 [==============================] - 1s 385us/step - loss: 2.0816 - acc: 0.8474 - val_loss: 0.4280 - val_acc: 0.8697\n",
      "Epoch 19/40\n",
      "2680/2680 [==============================] - 1s 394us/step - loss: 2.2749 - acc: 0.8295 - val_loss: 0.4288 - val_acc: 0.8341\n",
      "Epoch 20/40\n",
      "2680/2680 [==============================] - 1s 393us/step - loss: 2.1342 - acc: 0.8444 - val_loss: 0.4533 - val_acc: 0.8235\n",
      "Epoch 21/40\n",
      "2680/2680 [==============================] - 1s 388us/step - loss: 2.1029 - acc: 0.8534 - val_loss: 0.4244 - val_acc: 0.8636\n",
      "Epoch 22/40\n",
      "2680/2680 [==============================] - 1s 382us/step - loss: 2.0058 - acc: 0.8623 - val_loss: 0.4144 - val_acc: 0.8500\n",
      "Epoch 23/40\n",
      "2680/2680 [==============================] - 1s 385us/step - loss: 2.2136 - acc: 0.8466 - val_loss: 0.4330 - val_acc: 0.8394\n",
      "Epoch 24/40\n",
      "2680/2680 [==============================] - 1s 397us/step - loss: 2.3381 - acc: 0.8422 - val_loss: 0.4105 - val_acc: 0.8720\n",
      "Epoch 25/40\n",
      "2680/2680 [==============================] - 1s 386us/step - loss: 1.9463 - acc: 0.8679 - val_loss: 0.4090 - val_acc: 0.8500\n",
      "Epoch 26/40\n",
      "2680/2680 [==============================] - 1s 385us/step - loss: 2.1009 - acc: 0.8552 - val_loss: 0.4058 - val_acc: 0.8705\n",
      "Epoch 27/40\n",
      "2680/2680 [==============================] - 1s 392us/step - loss: 2.0324 - acc: 0.8642 - val_loss: 0.4073 - val_acc: 0.8705\n",
      "Epoch 28/40\n",
      "2680/2680 [==============================] - 1s 381us/step - loss: 2.1141 - acc: 0.8567 - val_loss: 0.4060 - val_acc: 0.8492\n",
      "Epoch 29/40\n",
      "2680/2680 [==============================] - 1s 399us/step - loss: 2.1581 - acc: 0.8552 - val_loss: 0.4032 - val_acc: 0.8720\n",
      "Epoch 30/40\n",
      "2680/2680 [==============================] - 1s 393us/step - loss: 2.1238 - acc: 0.8586 - val_loss: 0.4009 - val_acc: 0.8697\n",
      "Epoch 31/40\n",
      "2680/2680 [==============================] - 1s 396us/step - loss: 2.0440 - acc: 0.8657 - val_loss: 0.3996 - val_acc: 0.8682\n",
      "Epoch 32/40\n",
      "2680/2680 [==============================] - 1s 397us/step - loss: 2.2556 - acc: 0.8537 - val_loss: 0.4293 - val_acc: 0.8402\n",
      "Epoch 33/40\n",
      "2680/2680 [==============================] - 1s 407us/step - loss: 2.0986 - acc: 0.8631 - val_loss: 0.3999 - val_acc: 0.8561\n",
      "Epoch 34/40\n",
      "2680/2680 [==============================] - 1s 396us/step - loss: 2.0750 - acc: 0.8627 - val_loss: 0.3994 - val_acc: 0.8561\n",
      "Epoch 35/40\n",
      "2680/2680 [==============================] - 1s 405us/step - loss: 2.0402 - acc: 0.8683 - val_loss: 0.4366 - val_acc: 0.8295\n",
      "Epoch 36/40\n",
      "2680/2680 [==============================] - 1s 392us/step - loss: 1.9847 - acc: 0.8735 - val_loss: 0.3994 - val_acc: 0.8508\n",
      "Epoch 37/40\n",
      "2680/2680 [==============================] - 1s 416us/step - loss: 1.8903 - acc: 0.8746 - val_loss: 0.3938 - val_acc: 0.8705\n",
      "Epoch 38/40\n",
      "2680/2680 [==============================] - 1s 446us/step - loss: 2.0992 - acc: 0.8675 - val_loss: 0.4017 - val_acc: 0.8629\n",
      "Epoch 39/40\n",
      "2680/2680 [==============================] - 1s 434us/step - loss: 2.0738 - acc: 0.8649 - val_loss: 0.4020 - val_acc: 0.8606\n",
      "Epoch 40/40\n",
      "2680/2680 [==============================] - 1s 445us/step - loss: 2.1280 - acc: 0.8612 - val_loss: 0.3925 - val_acc: 0.8689\n"
     ]
    }
   ],
   "source": [
    "VOCAB_SIZE = len(word_dictionary) \n",
    "EMBEDDING_DIM = 100\n",
    "WORD_VEC = None # 256\n",
    "CLASS_NUM = 1\n",
    "\n",
    "\n",
    "ft4 = FastText4(VOCAB_SIZE, EMBEDDING_DIM, WORD_VEC, CLASS_NUM)\n",
    "ft4.build_fastText()\n",
    "# ft.train(np.array(X_train), np.array(y_train), np.array(X_test), np.array(y_test))\n",
    "\n",
    "history4 = ft4.train(np.array(X_train), np.array(y_train), np.array(X_test), np.array(y_test),40)\n"
   ]
  },
  {
   "cell_type": "code",
   "execution_count": 41,
   "metadata": {
    "scrolled": true
   },
   "outputs": [
    {
     "data": {
      "image/png": "[encoded data removed]",
      "text/plain": [
       "<Figure size 432x288 with 1 Axes>"
      ]
     },
     "metadata": {
      "needs_background": "light"
     },
     "output_type": "display_data"
    }
   ],
   "source": [
    "plot_acc(history4)"
   ]
  },
  {
   "cell_type": "code",
   "execution_count": 42,
   "metadata": {
    "scrolled": true
   },
   "outputs": [
    {
     "name": "stderr",
     "output_type": "stream",
     "text": [
      "D:\\program.successfully\\anaconda3\\lib\\site-packages\\ipykernel_launcher.py:30: UserWarning: Update your `Dense` call to the Keras 2 API: `Dense(kernel_regularizer=<keras.reg..., activation=<function ..., units=1)`\n"
     ]
    },
    {
     "name": "stdout",
     "output_type": "stream",
     "text": [
      "Model: \"sequential_5\"\n",
      "_________________________________________________________________\n",
      "Layer (type)                 Output Shape              Param #   \n",
      "=================================================================\n",
      "embedding_5 (Embedding)      (None, None, 200)         4224400   \n",
      "_________________________________________________________________\n",
      "global_average_pooling1d_5 ( (None, 200)               0         \n",
      "_________________________________________________________________\n",
      "batch_normalization_3 (Batch (None, 200)               800       \n",
      "_________________________________________________________________\n",
      "dense_5 (Dense)              (None, 1)                 201       \n",
      "_________________________________________________________________\n",
      "dropout_4 (Dropout)          (None, 1)                 0         \n",
      "=================================================================\n",
      "Total params: 4,225,401\n",
      "Trainable params: 4,225,001\n",
      "Non-trainable params: 400\n",
      "_________________________________________________________________\n",
      "None\n",
      "Train on 2680 samples, validate on 1320 samples\n",
      "Epoch 1/40\n",
      "2680/2680 [==============================] - 4s 1ms/step - loss: 2.5213 - acc: 0.5250 - val_loss: 0.6758 - val_acc: 0.5970\n",
      "Epoch 2/40\n",
      "2680/2680 [==============================] - 2s 719us/step - loss: 2.5198 - acc: 0.5791 - val_loss: 0.6256 - val_acc: 0.6902\n",
      "Epoch 3/40\n",
      "2680/2680 [==============================] - 2s 726us/step - loss: 2.4492 - acc: 0.6269 - val_loss: 0.6327 - val_acc: 0.5788\n",
      "Epoch 4/40\n",
      "2680/2680 [==============================] - 2s 741us/step - loss: 2.2492 - acc: 0.7049 - val_loss: 0.6311 - val_acc: 0.5682\n",
      "Epoch 5/40\n",
      "2680/2680 [==============================] - 2s 753us/step - loss: 2.3763 - acc: 0.7478 - val_loss: 0.5912 - val_acc: 0.6598\n",
      "Epoch 6/40\n",
      "2680/2680 [==============================] - 2s 737us/step - loss: 2.3344 - acc: 0.7660 - val_loss: 0.5468 - val_acc: 0.8318\n",
      "Epoch 7/40\n",
      "2680/2680 [==============================] - 2s 729us/step - loss: 2.1297 - acc: 0.7776 - val_loss: 0.5225 - val_acc: 0.8614\n",
      "Epoch 8/40\n",
      "2680/2680 [==============================] - 2s 746us/step - loss: 2.1489 - acc: 0.7884 - val_loss: 0.5122 - val_acc: 0.8530\n",
      "Epoch 9/40\n",
      "2680/2680 [==============================] - 2s 733us/step - loss: 2.2742 - acc: 0.7974 - val_loss: 0.4974 - val_acc: 0.8576\n",
      "Epoch 10/40\n",
      "2680/2680 [==============================] - 2s 753us/step - loss: 2.2864 - acc: 0.8015 - val_loss: 0.4803 - val_acc: 0.8652\n",
      "Epoch 11/40\n",
      "2680/2680 [==============================] - 2s 729us/step - loss: 2.0795 - acc: 0.8235 - val_loss: 0.4749 - val_acc: 0.8636\n",
      "Epoch 12/40\n",
      "2680/2680 [==============================] - 2s 727us/step - loss: 2.2066 - acc: 0.8224 - val_loss: 0.4727 - val_acc: 0.8455\n",
      "Epoch 13/40\n",
      "2680/2680 [==============================] - 2s 732us/step - loss: 2.2567 - acc: 0.8250 - val_loss: 0.4614 - val_acc: 0.8561\n",
      "Epoch 14/40\n",
      "2680/2680 [==============================] - 2s 723us/step - loss: 2.1094 - acc: 0.8354 - val_loss: 0.4439 - val_acc: 0.8742\n",
      "Epoch 15/40\n",
      "2680/2680 [==============================] - 2s 743us/step - loss: 2.2094 - acc: 0.8265 - val_loss: 0.4353 - val_acc: 0.8727\n",
      "Epoch 16/40\n",
      "2680/2680 [==============================] - 2s 737us/step - loss: 2.3422 - acc: 0.8243 - val_loss: 0.4505 - val_acc: 0.8379\n",
      "Epoch 17/40\n",
      "2680/2680 [==============================] - 2s 739us/step - loss: 2.1195 - acc: 0.8500 - val_loss: 0.4338 - val_acc: 0.8614\n",
      "Epoch 18/40\n",
      "2680/2680 [==============================] - 2s 724us/step - loss: 2.1490 - acc: 0.8463 - val_loss: 0.4239 - val_acc: 0.8795\n",
      "Epoch 19/40\n",
      "2680/2680 [==============================] - 2s 735us/step - loss: 2.1303 - acc: 0.8478 - val_loss: 0.4181 - val_acc: 0.8750\n",
      "Epoch 20/40\n",
      "2680/2680 [==============================] - 2s 739us/step - loss: 2.0161 - acc: 0.8537 - val_loss: 0.4282 - val_acc: 0.8576\n",
      "Epoch 21/40\n",
      "2680/2680 [==============================] - 2s 722us/step - loss: 2.0836 - acc: 0.8556 - val_loss: 0.4186 - val_acc: 0.8659\n",
      "Epoch 22/40\n",
      "2680/2680 [==============================] - 2s 724us/step - loss: 2.0866 - acc: 0.8567 - val_loss: 0.4082 - val_acc: 0.8742\n",
      "Epoch 23/40\n",
      "2680/2680 [==============================] - 2s 735us/step - loss: 1.9971 - acc: 0.8623 - val_loss: 0.4053 - val_acc: 0.8735\n",
      "Epoch 24/40\n",
      "2680/2680 [==============================] - 2s 737us/step - loss: 2.1444 - acc: 0.8526 - val_loss: 0.4028 - val_acc: 0.8735\n",
      "Epoch 25/40\n",
      "2680/2680 [==============================] - 2s 743us/step - loss: 2.0921 - acc: 0.8608 - val_loss: 0.4107 - val_acc: 0.8621\n",
      "Epoch 26/40\n",
      "2680/2680 [==============================] - 2s 725us/step - loss: 1.9760 - acc: 0.8690 - val_loss: 0.3992 - val_acc: 0.8705\n",
      "Epoch 27/40\n",
      "2680/2680 [==============================] - 2s 735us/step - loss: 2.1114 - acc: 0.8582 - val_loss: 0.4028 - val_acc: 0.8712\n",
      "Epoch 28/40\n",
      "2680/2680 [==============================] - 2s 725us/step - loss: 2.3140 - acc: 0.8500 - val_loss: 0.4028 - val_acc: 0.8712\n",
      "Epoch 29/40\n",
      "2680/2680 [==============================] - 2s 734us/step - loss: 2.0027 - acc: 0.8642 - val_loss: 0.3953 - val_acc: 0.8758\n",
      "Epoch 30/40\n",
      "2680/2680 [==============================] - 2s 735us/step - loss: 2.2171 - acc: 0.8530 - val_loss: 0.3999 - val_acc: 0.8735\n",
      "Epoch 31/40\n",
      "2680/2680 [==============================] - 2s 733us/step - loss: 1.9653 - acc: 0.8720 - val_loss: 0.4240 - val_acc: 0.8409\n",
      "Epoch 32/40\n",
      "2680/2680 [==============================] - 2s 733us/step - loss: 2.0444 - acc: 0.8679 - val_loss: 0.3931 - val_acc: 0.8742\n",
      "Epoch 33/40\n",
      "2680/2680 [==============================] - 2s 714us/step - loss: 2.0958 - acc: 0.8619 - val_loss: 0.3934 - val_acc: 0.8727\n",
      "Epoch 34/40\n",
      "2680/2680 [==============================] - 2s 733us/step - loss: 2.0051 - acc: 0.8701 - val_loss: 0.3974 - val_acc: 0.8712\n",
      "Epoch 35/40\n",
      "2680/2680 [==============================] - 2s 730us/step - loss: 2.0868 - acc: 0.8668 - val_loss: 0.3939 - val_acc: 0.8659\n",
      "Epoch 36/40\n",
      "2680/2680 [==============================] - 2s 727us/step - loss: 2.1554 - acc: 0.8612 - val_loss: 0.4015 - val_acc: 0.8659\n",
      "Epoch 37/40\n",
      "2680/2680 [==============================] - 2s 739us/step - loss: 2.1396 - acc: 0.8653 - val_loss: 0.4096 - val_acc: 0.8561\n",
      "Epoch 38/40\n",
      "2680/2680 [==============================] - 2s 733us/step - loss: 2.0344 - acc: 0.8716 - val_loss: 0.3915 - val_acc: 0.8697\n",
      "Epoch 39/40\n",
      "2680/2680 [==============================] - 2s 737us/step - loss: 2.1695 - acc: 0.8627 - val_loss: 0.3940 - val_acc: 0.8674\n",
      "Epoch 40/40\n",
      "2680/2680 [==============================] - 2s 737us/step - loss: 1.9960 - acc: 0.8735 - val_loss: 0.3930 - val_acc: 0.8682\n"
     ]
    }
   ],
   "source": [
    "# 翻倍 embedding 的维度\n",
    "\n",
    "VOCAB_SIZE = len(word_dictionary)\n",
    "EMBEDDING_DIM = 200\n",
    "WORD_VEC = None # 256\n",
    "CLASS_NUM = 1\n",
    "\n",
    "\n",
    "ft5 = FastText4(VOCAB_SIZE, EMBEDDING_DIM, WORD_VEC, CLASS_NUM)\n",
    "ft5.build_fastText()\n",
    "# ft.train(np.array(X_train), np.array(y_train), np.array(X_test), np.array(y_test))\n",
    "\n",
    "history5 = ft5.train(np.array(X_train), np.array(y_train), np.array(X_test), np.array(y_test),40)\n"
   ]
  },
  {
   "cell_type": "code",
   "execution_count": 43,
   "metadata": {
    "scrolled": true
   },
   "outputs": [
    {
     "data": {
      "image/png": "[encoded data removed]",
      "text/plain": [
       "<Figure size 432x288 with 1 Axes>"
      ]
     },
     "metadata": {
      "needs_background": "light"
     },
     "output_type": "display_data"
    }
   ],
   "source": [
    "plot_acc(history5)"
   ]
  },
  {
   "cell_type": "code",
   "execution_count": 44,
   "metadata": {},
   "outputs": [],
   "source": [
    "## 维度没有影响"
   ]
  },
  {
   "cell_type": "code",
   "execution_count": 45,
   "metadata": {},
   "outputs": [
    {
     "data": {
      "text/plain": [
       "array([[0., 0., 1.],\n",
       "       [0., 1., 0.],\n",
       "       [0., 0., 1.],\n",
       "       [0., 1., 0.]], dtype=float32)"
      ]
     },
     "execution_count": 45,
     "metadata": {},
     "output_type": "execute_result"
    }
   ],
   "source": [
    "keras.utils.to_categorical(np.random.randint(3, size=(4, 1)), num_classes=3)"
   ]
  },
  {
   "cell_type": "markdown",
   "metadata": {},
   "source": [
    "# N-gram\n"
   ]
  },
  {
   "cell_type": "code",
   "execution_count": 46,
   "metadata": {},
   "outputs": [
    {
     "data": {
      "text/html": [
       "<div>\n",
       "<style scoped>\n",
       "    .dataframe tbody tr th:only-of-type {\n",
       "        vertical-align: middle;\n",
       "    }\n",
       "\n",
       "    .dataframe tbody tr th {\n",
       "        vertical-align: top;\n",
       "    }\n",
       "\n",
       "    .dataframe thead th {\n",
       "        text-align: right;\n",
       "    }\n",
       "</style>\n",
       "<table border=\"1\" class=\"dataframe\">\n",
       "  <thead>\n",
       "    <tr style=\"text-align: right;\">\n",
       "      <th></th>\n",
       "      <th>label</th>\n",
       "      <th>sentence</th>\n",
       "      <th>clean sentence</th>\n",
       "      <th>sentence index</th>\n",
       "    </tr>\n",
       "  </thead>\n",
       "  <tbody>\n",
       "    <tr>\n",
       "      <th>150</th>\n",
       "      <td>1</td>\n",
       "      <td>在上海市中心的位置，因此比较牛气。不过在周围几个酒店里性价比算高的了，大床房难订到。</td>\n",
       "      <td>在 上海市 中心 的 位置  因此 比较 牛气  不过 在 周围 几个 酒店 里 性价比 算...</td>\n",
       "      <td>[9, 4471, 664, 2, 137, 855, 28, 9853, 90, 9, 3...</td>\n",
       "    </tr>\n",
       "    <tr>\n",
       "      <th>4036</th>\n",
       "      <td>1</td>\n",
       "      <td>如果不想在神仙居景点玩2天以上，那还是应该选择近市区的酒店，否则过了5点以后就要坐出租车上山...</td>\n",
       "      <td>如果 不想 在 神仙 居 景点 玩 2 天 以上  那 还是 应该 选择 近 市区 的 酒店...</td>\n",
       "      <td>[95, 702, 9, 9855, 6769, 903, 775, 45, 273, 69...</td>\n",
       "    </tr>\n",
       "    <tr>\n",
       "      <th>2884</th>\n",
       "      <td>1</td>\n",
       "      <td>开始订了富凯，虽然住在8楼双号，但是早上7点的时候就能听到下面的国歌声，早操音乐，实在太吵，...</td>\n",
       "      <td>开始 订 了 富凯  虽然 住 在 8 楼双 号  但是 早上 7 点 的 时候 就 能 听...</td>\n",
       "      <td>[277, 182, 3, 6770, 163, 17, 9, 175, 9858, 442...</td>\n",
       "    </tr>\n",
       "    <tr>\n",
       "      <th>3061</th>\n",
       "      <td>1</td>\n",
       "      <td>是第二次住了,服务还可以,还加了电脑可以上网。</td>\n",
       "      <td>是 第二次 住 了  服务 还 可以  还加 了 电脑 可以 上网</td>\n",
       "      <td>[5, 685, 17, 3, 18, 15, 27, 6772, 3, 358, 27, ...</td>\n",
       "    </tr>\n",
       "    <tr>\n",
       "      <th>4877</th>\n",
       "      <td>1</td>\n",
       "      <td>偶住的是南楼的房间，性价比不错！酒店位置很好，离莫家街和清真大寺都很近，走路分别为5分钟，而...</td>\n",
       "      <td>偶住 的 是 南楼 的 房间  性价比 不错  酒店 位置 很 好  离莫家 街 和 清真 ...</td>\n",
       "      <td>[6773, 2, 5, 2602, 2, 7, 157, 19, 4, 137, 8, 2...</td>\n",
       "    </tr>\n",
       "  </tbody>\n",
       "</table>\n",
       "</div>"
      ],
      "text/plain": [
       "      label                                           sentence  \\\n",
       "150       1         在上海市中心的位置，因此比较牛气。不过在周围几个酒店里性价比算高的了，大床房难订到。   \n",
       "4036      1  如果不想在神仙居景点玩2天以上，那还是应该选择近市区的酒店，否则过了5点以后就要坐出租车上山...   \n",
       "2884      1  开始订了富凯，虽然住在8楼双号，但是早上7点的时候就能听到下面的国歌声，早操音乐，实在太吵，...   \n",
       "3061      1                            是第二次住了,服务还可以,还加了电脑可以上网。   \n",
       "4877      1  偶住的是南楼的房间，性价比不错！酒店位置很好，离莫家街和清真大寺都很近，走路分别为5分钟，而...   \n",
       "\n",
       "                                         clean sentence  \\\n",
       "150   在 上海市 中心 的 位置  因此 比较 牛气  不过 在 周围 几个 酒店 里 性价比 算...   \n",
       "4036  如果 不想 在 神仙 居 景点 玩 2 天 以上  那 还是 应该 选择 近 市区 的 酒店...   \n",
       "2884  开始 订 了 富凯  虽然 住 在 8 楼双 号  但是 早上 7 点 的 时候 就 能 听...   \n",
       "3061                  是 第二次 住 了  服务 还 可以  还加 了 电脑 可以 上网   \n",
       "4877  偶住 的 是 南楼 的 房间  性价比 不错  酒店 位置 很 好  离莫家 街 和 清真 ...   \n",
       "\n",
       "                                         sentence index  \n",
       "150   [9, 4471, 664, 2, 137, 855, 28, 9853, 90, 9, 3...  \n",
       "4036  [95, 702, 9, 9855, 6769, 903, 775, 45, 273, 69...  \n",
       "2884  [277, 182, 3, 6770, 163, 17, 9, 175, 9858, 442...  \n",
       "3061  [5, 685, 17, 3, 18, 15, 27, 6772, 3, 358, 27, ...  \n",
       "4877  [6773, 2, 5, 2602, 2, 7, 157, 19, 4, 137, 8, 2...  "
      ]
     },
     "execution_count": 46,
     "metadata": {},
     "output_type": "execute_result"
    }
   ],
   "source": [
    "dataset.head()"
   ]
  },
  {
   "cell_type": "code",
   "execution_count": 47,
   "metadata": {},
   "outputs": [
    {
     "data": {
      "text/plain": [
       "'纵容着喜欢的讨厌的厌倦的一个个慢慢暗淡'"
      ]
     },
     "execution_count": 47,
     "metadata": {},
     "output_type": "execute_result"
    }
   ],
   "source": [
    "''.join(\"纵容着 喜欢的 讨厌的 厌倦的 一个个慢慢暗淡\".split())"
   ]
  },
  {
   "cell_type": "code",
   "execution_count": 80,
   "metadata": {},
   "outputs": [],
   "source": [
    "ngram = 2\n",
    "\n",
    "# 将n-gram词加入到词表\n",
    "def create_ngram(sent, ngram_value):\n",
    "    return set(zip(*[sent[i:] for i in range(ngram_value)]))\n",
    "\n",
    "ngram_set = set()\n",
    "for sentence in clean_sent:\n",
    "    sent = ''.join(sentence.split())\n",
    "    for i in range(2, ngram+1):\n",
    "        set_of_ngram = create_ngram(sent, i)\n",
    "        ngram_set.update(set_of_ngram)\n"
   ]
  },
  {
   "cell_type": "code",
   "execution_count": 81,
   "metadata": {},
   "outputs": [],
   "source": [
    "start_index = len(word_dictionary)\n",
    "ngram_dictionary = {v: k + start_index for k, v in enumerate(ngram_set)} # 给n-gram词汇编码\n",
    "\n",
    "def add_ngram(origin_sent_index_list, sentence_list, ngram_dictionary, ngram):\n",
    "    \"\"\"\n",
    "    origin_sent_index_list：存放了每个使用word的句子index的列表\n",
    "    sentence_list: 存放了清洗后原始句子的列表\n",
    "    ngram_dictionary\n",
    "    \"\"\"\n",
    "    if len(origin_sent_index_list) == len(sentence_list):\n",
    "        new_sent_indx_list = [np.nan]*len(sentence_list)\n",
    "        for i in range(len(sentence_list)):\n",
    "            sent = ''.join(sentence_list[i].split())\n",
    "            list_of_ngram_index = np.array([])\n",
    "            for j in range(2, ngram+1):\n",
    "                list_of_ngram = create_ngram(sent, j)\n",
    "                for element in list_of_ngram:\n",
    "                    index = ngram_dictionary.get(element, 0)\n",
    "                    list_of_ngram_index = np.append(list_of_ngram_index, index)\n",
    "                    \n",
    "            new_sent_indx_list[i] = np.append(origin_sent_index_list[i], list_of_ngram_index)\n",
    "        return new_sent_indx_list\n",
    "            \n",
    "#         print(origin_sent_index_list[0])\n",
    "                    \n",
    "            \n",
    "    else:\n",
    "        print(\"Length of origin word index list doesn't match length of sentence list\")\n",
    " \n"
   ]
  },
  {
   "cell_type": "code",
   "execution_count": 82,
   "metadata": {},
   "outputs": [
    {
     "data": {
      "text/plain": [
       "array([   9, 4471,  664,    2,  137,  855,   28, 9853,   90,    9,  357,\n",
       "        385,    4,   72,  157, 6768,    2,    3,  155, 9854,   25])"
      ]
     },
     "execution_count": 82,
     "metadata": {},
     "output_type": "execute_result"
    }
   ],
   "source": [
    "all_sentence_index[0]"
   ]
  },
  {
   "cell_type": "code",
   "execution_count": 83,
   "metadata": {},
   "outputs": [],
   "source": [
    "ngram_data = add_ngram(all_sentence_index, clean_sent, ngram_dictionary, ngram)"
   ]
  },
  {
   "cell_type": "code",
   "execution_count": 84,
   "metadata": {},
   "outputs": [
    {
     "data": {
      "text/plain": [
       "array([9.00000e+00, 4.47100e+03, 6.64000e+02, 2.00000e+00, 1.37000e+02,\n",
       "       8.55000e+02, 2.80000e+01, 9.85300e+03, 9.00000e+01, 9.00000e+00,\n",
       "       3.57000e+02, 3.85000e+02, 4.00000e+00, 7.20000e+01, 1.57000e+02,\n",
       "       6.76800e+03, 2.00000e+00, 3.00000e+00, 1.55000e+02, 9.85400e+03,\n",
       "       2.50000e+01, 6.77300e+04, 1.20769e+05, 5.12650e+04, 9.85630e+04,\n",
       "       4.53550e+04, 5.29920e+04, 3.44680e+04, 9.40010e+04, 9.66710e+04,\n",
       "       1.06806e+05, 7.46240e+04, 7.31480e+04, 8.78960e+04, 3.11960e+04,\n",
       "       1.06455e+05, 5.96000e+04, 4.64710e+04, 1.13475e+05, 1.17415e+05,\n",
       "       3.06390e+04, 7.13870e+04, 5.53840e+04, 4.21780e+04, 6.30490e+04,\n",
       "       5.56660e+04, 2.14060e+04, 8.63130e+04, 2.46380e+04, 3.84120e+04,\n",
       "       3.15570e+04, 7.95430e+04, 5.64360e+04, 7.60250e+04, 3.80050e+04,\n",
       "       6.03710e+04, 5.31240e+04, 9.03180e+04])"
      ]
     },
     "execution_count": 84,
     "metadata": {},
     "output_type": "execute_result"
    }
   ],
   "source": [
    "ngram_data[0]"
   ]
  },
  {
   "cell_type": "code",
   "execution_count": 85,
   "metadata": {},
   "outputs": [
    {
     "data": {
      "text/plain": [
       "58"
      ]
     },
     "execution_count": 85,
     "metadata": {},
     "output_type": "execute_result"
    }
   ],
   "source": [
    "len(ngram_data[0])"
   ]
  },
  {
   "cell_type": "code",
   "execution_count": 87,
   "metadata": {},
   "outputs": [],
   "source": [
    "all_ngram_data = keras.preprocessing.sequence.pad_sequences(ngram_data,\n",
    "                                           value=0,\n",
    "                                           padding='post',\n",
    "                                           maxlen= 150)"
   ]
  },
  {
   "cell_type": "code",
   "execution_count": 88,
   "metadata": {},
   "outputs": [
    {
     "data": {
      "text/plain": [
       "array([     9,   4471,    664,      2,    137,    855,     28,   9853,\n",
       "           90,      9,    357,    385,      4,     72,    157,   6768,\n",
       "            2,      3,    155,   9854,     25,  67730, 120769,  51265,\n",
       "        98563,  45355,  52992,  34468,  94001,  96671, 106806,  74624,\n",
       "        73148,  87896,  31196, 106455,  59600,  46471, 113475, 117415,\n",
       "        30639,  71387,  55384,  42178,  63049,  55666,  21406,  86313,\n",
       "        24638,  38412,  31557,  79543,  56436,  76025,  38005,  60371,\n",
       "        53124,  90318,      0,      0,      0,      0,      0,      0,\n",
       "            0,      0,      0,      0,      0,      0,      0,      0,\n",
       "            0,      0,      0,      0,      0,      0,      0,      0,\n",
       "            0,      0,      0,      0,      0,      0,      0,      0,\n",
       "            0,      0,      0,      0,      0,      0,      0,      0,\n",
       "            0,      0,      0,      0,      0,      0,      0,      0,\n",
       "            0,      0,      0,      0,      0,      0,      0,      0,\n",
       "            0,      0,      0,      0,      0,      0,      0,      0,\n",
       "            0,      0,      0,      0,      0,      0,      0,      0,\n",
       "            0,      0,      0,      0,      0,      0,      0,      0,\n",
       "            0,      0,      0,      0,      0,      0,      0,      0,\n",
       "            0,      0,      0,      0,      0,      0])"
      ]
     },
     "execution_count": 88,
     "metadata": {},
     "output_type": "execute_result"
    }
   ],
   "source": [
    "all_ngram_data[0]"
   ]
  },
  {
   "cell_type": "code",
   "execution_count": 89,
   "metadata": {},
   "outputs": [
    {
     "name": "stdout",
     "output_type": "stream",
     "text": [
      "True\n"
     ]
    }
   ],
   "source": [
    "from sklearn.model_selection import train_test_split\n",
    "print(len(all_ngram_data)==len(all_data))\n",
    "X_ngram_train, X_ngram_test, y_ngram_train, y_ngram_test = train_test_split(all_ngram_data, \n",
    "                                                     dataset['label'], test_size=0.33, random_state=42)"
   ]
  },
  {
   "cell_type": "code",
   "execution_count": 90,
   "metadata": {},
   "outputs": [
    {
     "data": {
      "text/plain": [
       "array([  2065,    240,  10603,   1629,      5,      6,    102,    377,\n",
       "            2,   1754,  72950,  36569,  96748,  44437,  41663,  95397,\n",
       "       121433,  89266,  28395,  42542,  30349,  96121, 113477,  34338,\n",
       "        21217, 112017,      0,      0,      0,      0,      0,      0,\n",
       "            0,      0,      0,      0,      0,      0,      0,      0,\n",
       "            0,      0,      0,      0,      0,      0,      0,      0,\n",
       "            0,      0,      0,      0,      0,      0,      0,      0,\n",
       "            0,      0,      0,      0,      0,      0,      0,      0,\n",
       "            0,      0,      0,      0,      0,      0,      0,      0,\n",
       "            0,      0,      0,      0,      0,      0,      0,      0,\n",
       "            0,      0,      0,      0,      0,      0,      0,      0,\n",
       "            0,      0,      0,      0,      0,      0,      0,      0,\n",
       "            0,      0,      0,      0,      0,      0,      0,      0,\n",
       "            0,      0,      0,      0,      0,      0,      0,      0,\n",
       "            0,      0,      0,      0,      0,      0,      0,      0,\n",
       "            0,      0,      0,      0,      0,      0,      0,      0,\n",
       "            0,      0,      0,      0,      0,      0,      0,      0,\n",
       "            0,      0,      0,      0,      0,      0,      0,      0,\n",
       "            0,      0,      0,      0,      0,      0])"
      ]
     },
     "execution_count": 90,
     "metadata": {},
     "output_type": "execute_result"
    }
   ],
   "source": [
    "X_ngram_train[0]"
   ]
  },
  {
   "cell_type": "code",
   "execution_count": 91,
   "metadata": {
    "scrolled": true
   },
   "outputs": [
    {
     "name": "stderr",
     "output_type": "stream",
     "text": [
      "D:\\program.successfully\\anaconda3\\lib\\site-packages\\ipykernel_launcher.py:30: UserWarning: Update your `Dense` call to the Keras 2 API: `Dense(kernel_regularizer=<keras.reg..., activation=<function ..., units=1)`\n"
     ]
    },
    {
     "name": "stdout",
     "output_type": "stream",
     "text": [
      "Model: \"sequential_15\"\n",
      "_________________________________________________________________\n",
      "Layer (type)                 Output Shape              Param #   \n",
      "=================================================================\n",
      "embedding_15 (Embedding)     (None, None, 100)         12223900  \n",
      "_________________________________________________________________\n",
      "global_average_pooling1d_15  (None, 100)               0         \n",
      "_________________________________________________________________\n",
      "batch_normalization_13 (Batc (None, 100)               400       \n",
      "_________________________________________________________________\n",
      "dense_15 (Dense)             (None, 1)                 101       \n",
      "_________________________________________________________________\n",
      "dropout_14 (Dropout)         (None, 1)                 0         \n",
      "=================================================================\n",
      "Total params: 12,224,401\n",
      "Trainable params: 12,224,201\n",
      "Non-trainable params: 200\n",
      "_________________________________________________________________\n",
      "None\n",
      "Train on 2680 samples, validate on 1320 samples\n",
      "Epoch 1/20\n",
      "2680/2680 [==============================] - 8s 3ms/step - loss: 2.6168 - acc: 0.4884 - val_loss: 0.6326 - val_acc: 0.6962\n",
      "Epoch 2/20\n",
      "2680/2680 [==============================] - 2s 884us/step - loss: 2.3534 - acc: 0.6664 - val_loss: 0.5739 - val_acc: 0.7136\n",
      "Epoch 3/20\n",
      "2680/2680 [==============================] - 2s 899us/step - loss: 2.3392 - acc: 0.7209 - val_loss: 0.5287 - val_acc: 0.8023\n",
      "Epoch 4/20\n",
      "2680/2680 [==============================] - 2s 909us/step - loss: 2.0828 - acc: 0.7996 - val_loss: 0.5085 - val_acc: 0.8326\n",
      "Epoch 5/20\n",
      "2680/2680 [==============================] - 2s 911us/step - loss: 2.1298 - acc: 0.8485 - val_loss: 0.4847 - val_acc: 0.8417\n",
      "Epoch 6/20\n",
      "2680/2680 [==============================] - 2s 916us/step - loss: 1.9748 - acc: 0.8634 - val_loss: 0.4571 - val_acc: 0.8606\n",
      "Epoch 7/20\n",
      "2680/2680 [==============================] - 2s 900us/step - loss: 2.1081 - acc: 0.8515 - val_loss: 0.4420 - val_acc: 0.8598\n",
      "Epoch 8/20\n",
      "2680/2680 [==============================] - 2s 917us/step - loss: 2.2115 - acc: 0.8466 - val_loss: 0.4336 - val_acc: 0.8629\n",
      "Epoch 9/20\n",
      "2680/2680 [==============================] - 2s 916us/step - loss: 1.9722 - acc: 0.8731 - val_loss: 0.4281 - val_acc: 0.8538\n",
      "Epoch 10/20\n",
      "2680/2680 [==============================] - 2s 901us/step - loss: 1.9582 - acc: 0.8731 - val_loss: 0.4236 - val_acc: 0.8515\n",
      "Epoch 11/20\n",
      "2680/2680 [==============================] - 2s 918us/step - loss: 2.0908 - acc: 0.8675 - val_loss: 0.4234 - val_acc: 0.8439\n",
      "Epoch 12/20\n",
      "2680/2680 [==============================] - 2s 921us/step - loss: 1.9710 - acc: 0.8772 - val_loss: 0.4172 - val_acc: 0.8485\n",
      "Epoch 13/20\n",
      "2680/2680 [==============================] - 2s 919us/step - loss: 2.0530 - acc: 0.8728 - val_loss: 0.4147 - val_acc: 0.8470\n",
      "Epoch 14/20\n",
      "2680/2680 [==============================] - 2s 903us/step - loss: 1.9821 - acc: 0.8769 - val_loss: 0.4122 - val_acc: 0.8485\n",
      "Epoch 15/20\n",
      "2680/2680 [==============================] - 2s 903us/step - loss: 2.1772 - acc: 0.8638 - val_loss: 0.4116 - val_acc: 0.8462\n",
      "Epoch 16/20\n",
      "2680/2680 [==============================] - 2s 910us/step - loss: 1.9083 - acc: 0.8828 - val_loss: 0.4124 - val_acc: 0.8432\n",
      "Epoch 17/20\n",
      "2680/2680 [==============================] - 2s 920us/step - loss: 2.0919 - acc: 0.8713 - val_loss: 0.4135 - val_acc: 0.8402\n",
      "Epoch 18/20\n",
      "2680/2680 [==============================] - 2s 913us/step - loss: 2.0518 - acc: 0.8743 - val_loss: 0.4146 - val_acc: 0.8348\n",
      "Epoch 19/20\n",
      "2680/2680 [==============================] - 2s 913us/step - loss: 1.9547 - acc: 0.8806 - val_loss: 0.4142 - val_acc: 0.8326\n",
      "Epoch 20/20\n",
      "2680/2680 [==============================] - 2s 910us/step - loss: 2.0720 - acc: 0.8728 - val_loss: 0.4114 - val_acc: 0.8379\n"
     ]
    }
   ],
   "source": [
    "VOCAB_SIZE = len(word_dictionary) + len(ngram_dictionary)\n",
    "EMBEDDING_DIM = 100\n",
    "WORD_VEC = None # 350\n",
    "CLASS_NUM = 1\n",
    "\n",
    "\n",
    "ft6 = FastText4(VOCAB_SIZE, EMBEDDING_DIM, WORD_VEC, CLASS_NUM)\n",
    "ft6.build_fastText()\n",
    "# ft.train(np.array(X_train), np.array(y_train), np.array(X_test), np.array(y_test))\n",
    "\n",
    "history6 = ft6.train(np.array(X_ngram_train), np.array(y_ngram_train),\n",
    "                     np.array(X_ngram_test), np.array(y_ngram_test),20)\n"
   ]
  },
  {
   "cell_type": "code",
   "execution_count": 92,
   "metadata": {
    "scrolled": true
   },
   "outputs": [
    {
     "data": {
      "image/png": "[encoded data removed]",
      "text/plain": [
       "<Figure size 432x288 with 1 Axes>"
      ]
     },
     "metadata": {
      "needs_background": "light"
     },
     "output_type": "display_data"
    }
   ],
   "source": [
    "plot_acc(history6)"
   ]
  },
  {
   "cell_type": "markdown",
   "metadata": {},
   "source": [
    "## modify the order of layers"
   ]
  },
  {
   "cell_type": "code",
   "execution_count": 75,
   "metadata": {},
   "outputs": [],
   "source": [
    "class FastText5():\n",
    "    \n",
    "    def __init__(self, VOCAB_SIZE = 2000, EMBEDDING_DIM = 100, MAX_WORDS = 300, CLASS_NUM = 1):\n",
    "        self.VOCAB_SIZE = VOCAB_SIZE\n",
    "        self.EMBEDDING_DIM = EMBEDDING_DIM\n",
    "        self.MAX_WORDS = MAX_WORDS\n",
    "        self.CLASS_NUM = CLASS_NUM\n",
    "        self.model = Sequential()\n",
    "\n",
    "    def build_fastText(self):\n",
    "        \n",
    "        # Embedding 层， 词汇映射为 EMBEDDING_DIM 维度的向量\n",
    "        self.model.add(Embedding(self.VOCAB_SIZE, self.EMBEDDING_DIM,\n",
    "                                 input_length=self.MAX_WORDS))\n",
    "        # 平均文档中的所有单词向量\n",
    "        self.model.add(GlobalAveragePooling1D())\n",
    "        \n",
    "        # Normalization\n",
    "        self.model.add(BatchNormalization(axis=-1, momentum=0.99, epsilon=0.001, \n",
    "                                                   center=True, scale=True, \n",
    "                                                   beta_initializer='zeros', gamma_initializer='ones', \n",
    "                                                   moving_mean_initializer='zeros', \n",
    "                                                   moving_variance_initializer='ones'))\n",
    "        \n",
    "        # 输出层使用 SoftMax 分类\n",
    "#         self.model.add(Dense(output_dim=self.CLASS_NUM, activation=\"softmax\"))\n",
    "\n",
    "        # dropout 层\n",
    "        self.model.add(Dropout(0.25))\n",
    "\n",
    "        # 输出层使用 tf.nn.sigmoid \n",
    "        self.model.add(Dense(output_dim=self.CLASS_NUM, \n",
    "                             kernel_regularizer=regularizers.l2(0.01),activation=tf.nn.sigmoid))\n",
    "        \n",
    "\n",
    "        \n",
    "\n",
    "\n",
    "\n",
    "        # 定义模型的损失函数，优化器和分类度量指标\n",
    "        self.model.compile(loss='binary_crossentropy',\n",
    "                     optimizer=\"adam\",\n",
    "                     metrics=['accuracy'])\n",
    "        print(self.model.summary())\n",
    "        \n",
    "    def train(self, x_train, y_train, x_val, y_val, epochs=40, batch_size=500, verbose=1):\n",
    "        history = self.model.fit(x_train,\n",
    "                    y_train,\n",
    "                    epochs=epochs,\n",
    "                    batch_size=batch_size,\n",
    "                    validation_data=(x_val, y_val),\n",
    "                    verbose=verbose)\n",
    "        return history\n",
    "    \n",
    "    def evaluate(self, test_data, test_labels):\n",
    "        results = self.model.evaluate(test_data, test_labels)\n",
    "        return results"
   ]
  },
  {
   "cell_type": "code",
   "execution_count": 78,
   "metadata": {},
   "outputs": [
    {
     "name": "stderr",
     "output_type": "stream",
     "text": [
      "D:\\program.successfully\\anaconda3\\lib\\site-packages\\ipykernel_launcher.py:33: UserWarning: Update your `Dense` call to the Keras 2 API: `Dense(kernel_regularizer=<keras.reg..., activation=<function ..., units=1)`\n"
     ]
    },
    {
     "name": "stdout",
     "output_type": "stream",
     "text": [
      "Model: \"sequential_14\"\n",
      "_________________________________________________________________\n",
      "Layer (type)                 Output Shape              Param #   \n",
      "=================================================================\n",
      "embedding_14 (Embedding)     (None, None, 200)         4224400   \n",
      "_________________________________________________________________\n",
      "global_average_pooling1d_14  (None, 200)               0         \n",
      "_________________________________________________________________\n",
      "batch_normalization_12 (Batc (None, 200)               800       \n",
      "_________________________________________________________________\n",
      "dropout_13 (Dropout)         (None, 200)               0         \n",
      "_________________________________________________________________\n",
      "dense_14 (Dense)             (None, 1)                 201       \n",
      "=================================================================\n",
      "Total params: 4,225,401\n",
      "Trainable params: 4,225,001\n",
      "Non-trainable params: 400\n",
      "_________________________________________________________________\n",
      "None\n",
      "Train on 2680 samples, validate on 1320 samples\n",
      "Epoch 1/40\n",
      "2680/2680 [==============================] - 8s 3ms/step - loss: 0.7664 - acc: 0.5056 - val_loss: 0.7549 - val_acc: 0.5636\n",
      "Epoch 2/40\n",
      "2680/2680 [==============================] - 2s 774us/step - loss: 0.6448 - acc: 0.6563 - val_loss: 0.7605 - val_acc: 0.5992\n",
      "Epoch 3/40\n",
      "2680/2680 [==============================] - 2s 770us/step - loss: 0.6148 - acc: 0.6784 - val_loss: 0.6171 - val_acc: 0.6508\n",
      "Epoch 4/40\n",
      "2680/2680 [==============================] - 2s 810us/step - loss: 0.5615 - acc: 0.7776 - val_loss: 0.5810 - val_acc: 0.8083\n",
      "Epoch 5/40\n",
      "2680/2680 [==============================] - 2s 785us/step - loss: 0.5252 - acc: 0.8791 - val_loss: 0.5830 - val_acc: 0.6750\n",
      "Epoch 6/40\n",
      "2680/2680 [==============================] - 2s 805us/step - loss: 0.4940 - acc: 0.8854 - val_loss: 0.5359 - val_acc: 0.8341\n",
      "Epoch 7/40\n",
      "2680/2680 [==============================] - 2s 776us/step - loss: 0.4610 - acc: 0.8922 - val_loss: 0.5059 - val_acc: 0.7977\n",
      "Epoch 8/40\n",
      "2680/2680 [==============================] - 2s 763us/step - loss: 0.4362 - acc: 0.8784 - val_loss: 0.4892 - val_acc: 0.8045\n",
      "Epoch 9/40\n",
      "2680/2680 [==============================] - 2s 774us/step - loss: 0.4103 - acc: 0.8925 - val_loss: 0.4758 - val_acc: 0.8636\n",
      "Epoch 10/40\n",
      "2680/2680 [==============================] - 2s 796us/step - loss: 0.3878 - acc: 0.9108 - val_loss: 0.4687 - val_acc: 0.8417\n",
      "Epoch 11/40\n",
      "2680/2680 [==============================] - 2s 768us/step - loss: 0.3647 - acc: 0.9243 - val_loss: 0.4486 - val_acc: 0.8636\n",
      "Epoch 12/40\n",
      "2680/2680 [==============================] - 2s 782us/step - loss: 0.3454 - acc: 0.9265 - val_loss: 0.4356 - val_acc: 0.8591\n",
      "Epoch 13/40\n",
      "2680/2680 [==============================] - 2s 776us/step - loss: 0.3257 - acc: 0.9287 - val_loss: 0.4259 - val_acc: 0.8576\n",
      "Epoch 14/40\n",
      "2680/2680 [==============================] - 2s 774us/step - loss: 0.3114 - acc: 0.9354 - val_loss: 0.4180 - val_acc: 0.8659\n",
      "Epoch 15/40\n",
      "2680/2680 [==============================] - 2s 785us/step - loss: 0.2965 - acc: 0.9388 - val_loss: 0.4111 - val_acc: 0.8697\n",
      "Epoch 16/40\n",
      "2680/2680 [==============================] - 2s 769us/step - loss: 0.2797 - acc: 0.9466 - val_loss: 0.4048 - val_acc: 0.8735\n",
      "Epoch 17/40\n",
      "2680/2680 [==============================] - 2s 794us/step - loss: 0.2689 - acc: 0.9493 - val_loss: 0.4025 - val_acc: 0.8727\n",
      "Epoch 18/40\n",
      "2680/2680 [==============================] - 2s 885us/step - loss: 0.2552 - acc: 0.9545 - val_loss: 0.3963 - val_acc: 0.8652\n",
      "Epoch 19/40\n",
      "2680/2680 [==============================] - 2s 802us/step - loss: 0.2464 - acc: 0.9530 - val_loss: 0.3915 - val_acc: 0.8735\n",
      "Epoch 20/40\n",
      "2680/2680 [==============================] - 2s 788us/step - loss: 0.2343 - acc: 0.9604 - val_loss: 0.3884 - val_acc: 0.8773\n",
      "Epoch 21/40\n",
      "2680/2680 [==============================] - 2s 787us/step - loss: 0.2274 - acc: 0.9586 - val_loss: 0.3891 - val_acc: 0.8727\n",
      "Epoch 22/40\n",
      "2680/2680 [==============================] - 2s 780us/step - loss: 0.2199 - acc: 0.9660 - val_loss: 0.3839 - val_acc: 0.8742\n",
      "Epoch 23/40\n",
      "2680/2680 [==============================] - 2s 802us/step - loss: 0.2109 - acc: 0.9668 - val_loss: 0.3832 - val_acc: 0.8742\n",
      "Epoch 24/40\n",
      "2680/2680 [==============================] - 2s 791us/step - loss: 0.2036 - acc: 0.9694 - val_loss: 0.3832 - val_acc: 0.8720\n",
      "Epoch 25/40\n",
      "2680/2680 [==============================] - 2s 767us/step - loss: 0.1985 - acc: 0.9698 - val_loss: 0.3798 - val_acc: 0.8742\n",
      "Epoch 26/40\n",
      "2680/2680 [==============================] - 2s 769us/step - loss: 0.1908 - acc: 0.9746 - val_loss: 0.3816 - val_acc: 0.8750\n",
      "Epoch 27/40\n",
      "2680/2680 [==============================] - 2s 767us/step - loss: 0.1875 - acc: 0.9731 - val_loss: 0.3886 - val_acc: 0.8598\n",
      "Epoch 28/40\n",
      "2680/2680 [==============================] - 2s 785us/step - loss: 0.1801 - acc: 0.9787 - val_loss: 0.3787 - val_acc: 0.8727\n",
      "Epoch 29/40\n",
      "2680/2680 [==============================] - 2s 794us/step - loss: 0.1750 - acc: 0.9806 - val_loss: 0.3800 - val_acc: 0.8735\n",
      "Epoch 30/40\n",
      "2680/2680 [==============================] - 2s 781us/step - loss: 0.1696 - acc: 0.9813 - val_loss: 0.3837 - val_acc: 0.8712\n",
      "Epoch 31/40\n",
      "2680/2680 [==============================] - 2s 779us/step - loss: 0.1660 - acc: 0.9795 - val_loss: 0.3795 - val_acc: 0.8773\n",
      "Epoch 32/40\n",
      "2680/2680 [==============================] - 2s 792us/step - loss: 0.1610 - acc: 0.9832 - val_loss: 0.3809 - val_acc: 0.8758\n",
      "Epoch 33/40\n",
      "2680/2680 [==============================] - 2s 782us/step - loss: 0.1605 - acc: 0.9813 - val_loss: 0.3858 - val_acc: 0.8697\n",
      "Epoch 34/40\n",
      "2680/2680 [==============================] - 2s 795us/step - loss: 0.1541 - acc: 0.9836 - val_loss: 0.3832 - val_acc: 0.8727\n",
      "Epoch 35/40\n",
      "2680/2680 [==============================] - 2s 794us/step - loss: 0.1505 - acc: 0.9866 - val_loss: 0.3813 - val_acc: 0.8750\n",
      "Epoch 36/40\n",
      "2680/2680 [==============================] - 2s 801us/step - loss: 0.1470 - acc: 0.9884 - val_loss: 0.3809 - val_acc: 0.8795\n",
      "Epoch 37/40\n",
      "2680/2680 [==============================] - 2s 788us/step - loss: 0.1445 - acc: 0.9873 - val_loss: 0.3849 - val_acc: 0.8705\n",
      "Epoch 38/40\n",
      "2680/2680 [==============================] - 2s 799us/step - loss: 0.1424 - acc: 0.9884 - val_loss: 0.3862 - val_acc: 0.8712\n",
      "Epoch 39/40\n",
      "2680/2680 [==============================] - 2s 799us/step - loss: 0.1408 - acc: 0.9858 - val_loss: 0.3837 - val_acc: 0.8712\n",
      "Epoch 40/40\n",
      "2680/2680 [==============================] - 2s 788us/step - loss: 0.1365 - acc: 0.9858 - val_loss: 0.3869 - val_acc: 0.8689\n"
     ]
    }
   ],
   "source": [
    "# 翻倍 embedding 的维度\n",
    "\n",
    "VOCAB_SIZE = len(word_dictionary)\n",
    "EMBEDDING_DIM = 200\n",
    "WORD_VEC = None # 256\n",
    "CLASS_NUM = 1\n",
    "\n",
    "\n",
    "ft7 = FastText5(VOCAB_SIZE, EMBEDDING_DIM, WORD_VEC, CLASS_NUM)\n",
    "ft7.build_fastText()\n",
    "# ft.train(np.array(X_train), np.array(y_train), np.array(X_test), np.array(y_test))\n",
    "\n",
    "history7 = ft7.train(np.array(X_train), np.array(y_train), np.array(X_test), np.array(y_test),40)\n"
   ]
  },
  {
   "cell_type": "code",
   "execution_count": 79,
   "metadata": {},
   "outputs": [
    {
     "data": {
      "image/png": "[encoded data removed]",
      "text/plain": [
       "<Figure size 432x288 with 1 Axes>"
      ]
     },
     "metadata": {
      "needs_background": "light"
     },
     "output_type": "display_data"
    }
   ],
   "source": [
    "plot_acc(history7)"
   ]
  },
  {
   "cell_type": "code",
   "execution_count": null,
   "metadata": {},
   "outputs": [],
   "source": []
  },
  {
   "cell_type": "markdown",
   "metadata": {},
   "source": [
    "# LSTM 序列"
   ]
  },
  {
   "cell_type": "code",
   "execution_count": 41,
   "metadata": {},
   "outputs": [],
   "source": [
    "class FastText6():\n",
    "    \n",
    "    def __init__(self, VOCAB_SIZE = 2000, EMBEDDING_DIM = 100, MAX_WORDS = 300, CLASS_NUM = 1):\n",
    "        self.VOCAB_SIZE = VOCAB_SIZE\n",
    "        self.EMBEDDING_DIM = EMBEDDING_DIM\n",
    "        self.MAX_WORDS = MAX_WORDS\n",
    "        self.CLASS_NUM = CLASS_NUM\n",
    "        self.model = Sequential()\n",
    "\n",
    "    def build_fastText(self):\n",
    "        \n",
    "        # Embedding 层， 词汇映射为 EMBEDDING_DIM 维度的向量\n",
    "        self.model.add(Embedding(self.VOCAB_SIZE, self.EMBEDDING_DIM,\n",
    "                                 input_length=self.MAX_WORDS))\n",
    "        \n",
    "        self.model.add(LSTM(128))\n",
    "        \n",
    "        # 平均文档中的所有单词向量\n",
    "        self.model.add(GlobalAveragePooling1D())\n",
    "        \n",
    "        # LSTM 层\n",
    "#         self.model.add(LSTM(128))\n",
    "        \n",
    "        # Normalization\n",
    "        self.model.add(BatchNormalization(axis=-1, momentum=0.99, epsilon=0.001, \n",
    "                                                   center=True, scale=True, \n",
    "                                                   beta_initializer='zeros', gamma_initializer='ones', \n",
    "                                                   moving_mean_initializer='zeros', \n",
    "                                                   moving_variance_initializer='ones'))\n",
    "        \n",
    "        # 输出层使用 SoftMax 分类\n",
    "#         self.model.add(Dense(output_dim=self.CLASS_NUM, activation=\"softmax\"))\n",
    "\n",
    "        # dropout 层\n",
    "        self.model.add(Dropout(0.25))\n",
    "\n",
    "        # 输出层使用 tf.nn.sigmoid \n",
    "        self.model.add(Dense(output_dim=self.CLASS_NUM, \n",
    "                             kernel_regularizer=regularizers.l2(0.01),activation=tf.nn.sigmoid))\n",
    "        \n",
    "\n",
    "        \n",
    "\n",
    "\n",
    "\n",
    "        # 定义模型的损失函数，优化器和分类度量指标\n",
    "        self.model.compile(loss='binary_crossentropy',\n",
    "                     optimizer=\"adam\",\n",
    "                     metrics=['accuracy'])\n",
    "        print(self.model.summary())\n",
    "        \n",
    "    def train(self, x_train, y_train, x_val, y_val, epochs=40, batch_size=500, verbose=1):\n",
    "        history = self.model.fit(x_train,\n",
    "                    y_train,\n",
    "                    epochs=epochs,\n",
    "                    batch_size=batch_size,\n",
    "                    validation_data=(x_val, y_val),\n",
    "                    verbose=verbose)\n",
    "        return history\n",
    "    \n",
    "    def evaluate(self, test_data, test_labels):\n",
    "        results = self.model.evaluate(test_data, test_labels)\n",
    "        return results"
   ]
  },
  {
   "cell_type": "code",
   "execution_count": 42,
   "metadata": {},
   "outputs": [
    {
     "ename": "ValueError",
     "evalue": "Input 0 is incompatible with layer global_average_pooling1d_4: expected ndim=3, found ndim=2",
     "output_type": "error",
     "traceback": [
      "\u001b[1;31m---------------------------------------------------------------------------\u001b[0m",
      "\u001b[1;31mValueError\u001b[0m                                Traceback (most recent call last)",
      "\u001b[1;32m<ipython-input-42-075f7ac988a8>\u001b[0m in \u001b[0;36m<module>\u001b[1;34m\u001b[0m\n\u001b[0;32m      8\u001b[0m \u001b[1;33m\u001b[0m\u001b[0m\n\u001b[0;32m      9\u001b[0m \u001b[0mft8\u001b[0m \u001b[1;33m=\u001b[0m \u001b[0mFastText6\u001b[0m\u001b[1;33m(\u001b[0m\u001b[0mVOCAB_SIZE\u001b[0m\u001b[1;33m,\u001b[0m \u001b[0mEMBEDDING_DIM\u001b[0m\u001b[1;33m,\u001b[0m \u001b[0mWORD_VEC\u001b[0m\u001b[1;33m,\u001b[0m \u001b[0mCLASS_NUM\u001b[0m\u001b[1;33m)\u001b[0m\u001b[1;33m\u001b[0m\u001b[1;33m\u001b[0m\u001b[0m\n\u001b[1;32m---> 10\u001b[1;33m \u001b[0mft8\u001b[0m\u001b[1;33m.\u001b[0m\u001b[0mbuild_fastText\u001b[0m\u001b[1;33m(\u001b[0m\u001b[1;33m)\u001b[0m\u001b[1;33m\u001b[0m\u001b[1;33m\u001b[0m\u001b[0m\n\u001b[0m\u001b[0;32m     11\u001b[0m \u001b[0mft8\u001b[0m\u001b[1;33m.\u001b[0m\u001b[0mmodel\u001b[0m\u001b[1;33m.\u001b[0m\u001b[0msummary\u001b[0m\u001b[1;33m(\u001b[0m\u001b[1;33m)\u001b[0m\u001b[1;33m\u001b[0m\u001b[1;33m\u001b[0m\u001b[0m\n\u001b[0;32m     12\u001b[0m \u001b[1;31m# ft.train(np.array(X_train), np.array(y_train), np.array(X_test), np.array(y_test))\u001b[0m\u001b[1;33m\u001b[0m\u001b[1;33m\u001b[0m\u001b[1;33m\u001b[0m\u001b[0m\n",
      "\u001b[1;32m<ipython-input-41-2d804b1d4bf3>\u001b[0m in \u001b[0;36mbuild_fastText\u001b[1;34m(self)\u001b[0m\n\u001b[0;32m     17\u001b[0m \u001b[1;33m\u001b[0m\u001b[0m\n\u001b[0;32m     18\u001b[0m         \u001b[1;31m# 平均文档中的所有单词向量\u001b[0m\u001b[1;33m\u001b[0m\u001b[1;33m\u001b[0m\u001b[1;33m\u001b[0m\u001b[0m\n\u001b[1;32m---> 19\u001b[1;33m         \u001b[0mself\u001b[0m\u001b[1;33m.\u001b[0m\u001b[0mmodel\u001b[0m\u001b[1;33m.\u001b[0m\u001b[0madd\u001b[0m\u001b[1;33m(\u001b[0m\u001b[0mGlobalAveragePooling1D\u001b[0m\u001b[1;33m(\u001b[0m\u001b[1;33m)\u001b[0m\u001b[1;33m)\u001b[0m\u001b[1;33m\u001b[0m\u001b[1;33m\u001b[0m\u001b[0m\n\u001b[0m\u001b[0;32m     20\u001b[0m \u001b[1;33m\u001b[0m\u001b[0m\n\u001b[0;32m     21\u001b[0m         \u001b[1;31m# LSTM 层\u001b[0m\u001b[1;33m\u001b[0m\u001b[1;33m\u001b[0m\u001b[1;33m\u001b[0m\u001b[0m\n",
      "\u001b[1;32mD:\\program.successfully\\anaconda3\\lib\\site-packages\\keras\\engine\\sequential.py\u001b[0m in \u001b[0;36madd\u001b[1;34m(self, layer)\u001b[0m\n\u001b[0;32m    180\u001b[0m                 \u001b[0mself\u001b[0m\u001b[1;33m.\u001b[0m\u001b[0minputs\u001b[0m \u001b[1;33m=\u001b[0m \u001b[0mnetwork\u001b[0m\u001b[1;33m.\u001b[0m\u001b[0mget_source_inputs\u001b[0m\u001b[1;33m(\u001b[0m\u001b[0mself\u001b[0m\u001b[1;33m.\u001b[0m\u001b[0moutputs\u001b[0m\u001b[1;33m[\u001b[0m\u001b[1;36m0\u001b[0m\u001b[1;33m]\u001b[0m\u001b[1;33m)\u001b[0m\u001b[1;33m\u001b[0m\u001b[1;33m\u001b[0m\u001b[0m\n\u001b[0;32m    181\u001b[0m         \u001b[1;32melif\u001b[0m \u001b[0mself\u001b[0m\u001b[1;33m.\u001b[0m\u001b[0moutputs\u001b[0m\u001b[1;33m:\u001b[0m\u001b[1;33m\u001b[0m\u001b[1;33m\u001b[0m\u001b[0m\n\u001b[1;32m--> 182\u001b[1;33m             \u001b[0moutput_tensor\u001b[0m \u001b[1;33m=\u001b[0m \u001b[0mlayer\u001b[0m\u001b[1;33m(\u001b[0m\u001b[0mself\u001b[0m\u001b[1;33m.\u001b[0m\u001b[0moutputs\u001b[0m\u001b[1;33m[\u001b[0m\u001b[1;36m0\u001b[0m\u001b[1;33m]\u001b[0m\u001b[1;33m)\u001b[0m\u001b[1;33m\u001b[0m\u001b[1;33m\u001b[0m\u001b[0m\n\u001b[0m\u001b[0;32m    183\u001b[0m             \u001b[1;32mif\u001b[0m \u001b[0misinstance\u001b[0m\u001b[1;33m(\u001b[0m\u001b[0moutput_tensor\u001b[0m\u001b[1;33m,\u001b[0m \u001b[0mlist\u001b[0m\u001b[1;33m)\u001b[0m\u001b[1;33m:\u001b[0m\u001b[1;33m\u001b[0m\u001b[1;33m\u001b[0m\u001b[0m\n\u001b[0;32m    184\u001b[0m                 raise TypeError('All layers in a Sequential model '\n",
      "\u001b[1;32mD:\\program.successfully\\anaconda3\\lib\\site-packages\\keras\\engine\\base_layer.py\u001b[0m in \u001b[0;36m__call__\u001b[1;34m(self, inputs, **kwargs)\u001b[0m\n\u001b[0;32m    406\u001b[0m                 \u001b[1;31m# Raise exceptions in case the input is not compatible\u001b[0m\u001b[1;33m\u001b[0m\u001b[1;33m\u001b[0m\u001b[1;33m\u001b[0m\u001b[0m\n\u001b[0;32m    407\u001b[0m                 \u001b[1;31m# with the input_spec specified in the layer constructor.\u001b[0m\u001b[1;33m\u001b[0m\u001b[1;33m\u001b[0m\u001b[1;33m\u001b[0m\u001b[0m\n\u001b[1;32m--> 408\u001b[1;33m                 \u001b[0mself\u001b[0m\u001b[1;33m.\u001b[0m\u001b[0massert_input_compatibility\u001b[0m\u001b[1;33m(\u001b[0m\u001b[0minputs\u001b[0m\u001b[1;33m)\u001b[0m\u001b[1;33m\u001b[0m\u001b[1;33m\u001b[0m\u001b[0m\n\u001b[0m\u001b[0;32m    409\u001b[0m \u001b[1;33m\u001b[0m\u001b[0m\n\u001b[0;32m    410\u001b[0m                 \u001b[1;31m# Collect input shapes to build layer.\u001b[0m\u001b[1;33m\u001b[0m\u001b[1;33m\u001b[0m\u001b[1;33m\u001b[0m\u001b[0m\n",
      "\u001b[1;32mD:\\program.successfully\\anaconda3\\lib\\site-packages\\keras\\engine\\base_layer.py\u001b[0m in \u001b[0;36massert_input_compatibility\u001b[1;34m(self, inputs)\u001b[0m\n\u001b[0;32m    303\u001b[0m                                      \u001b[0mself\u001b[0m\u001b[1;33m.\u001b[0m\u001b[0mname\u001b[0m \u001b[1;33m+\u001b[0m \u001b[1;34m': expected ndim='\u001b[0m \u001b[1;33m+\u001b[0m\u001b[1;33m\u001b[0m\u001b[1;33m\u001b[0m\u001b[0m\n\u001b[0;32m    304\u001b[0m                                      \u001b[0mstr\u001b[0m\u001b[1;33m(\u001b[0m\u001b[0mspec\u001b[0m\u001b[1;33m.\u001b[0m\u001b[0mndim\u001b[0m\u001b[1;33m)\u001b[0m \u001b[1;33m+\u001b[0m \u001b[1;34m', found ndim='\u001b[0m \u001b[1;33m+\u001b[0m\u001b[1;33m\u001b[0m\u001b[1;33m\u001b[0m\u001b[0m\n\u001b[1;32m--> 305\u001b[1;33m                                      str(K.ndim(x)))\n\u001b[0m\u001b[0;32m    306\u001b[0m             \u001b[1;32mif\u001b[0m \u001b[0mspec\u001b[0m\u001b[1;33m.\u001b[0m\u001b[0mmax_ndim\u001b[0m \u001b[1;32mis\u001b[0m \u001b[1;32mnot\u001b[0m \u001b[1;32mNone\u001b[0m\u001b[1;33m:\u001b[0m\u001b[1;33m\u001b[0m\u001b[1;33m\u001b[0m\u001b[0m\n\u001b[0;32m    307\u001b[0m                 \u001b[0mndim\u001b[0m \u001b[1;33m=\u001b[0m \u001b[0mK\u001b[0m\u001b[1;33m.\u001b[0m\u001b[0mndim\u001b[0m\u001b[1;33m(\u001b[0m\u001b[0mx\u001b[0m\u001b[1;33m)\u001b[0m\u001b[1;33m\u001b[0m\u001b[1;33m\u001b[0m\u001b[0m\n",
      "\u001b[1;31mValueError\u001b[0m: Input 0 is incompatible with layer global_average_pooling1d_4: expected ndim=3, found ndim=2"
     ]
    }
   ],
   "source": [
    "# 翻倍 embedding 的维度\n",
    "\n",
    "VOCAB_SIZE = len(word_dictionary)\n",
    "EMBEDDING_DIM = 200\n",
    "WORD_VEC = None # 256\n",
    "CLASS_NUM = 1\n",
    "\n",
    "\n",
    "ft8 = FastText6(VOCAB_SIZE, EMBEDDING_DIM, WORD_VEC, CLASS_NUM)\n",
    "ft8.build_fastText()\n",
    "ft8.model.summary()\n",
    "# ft.train(np.array(X_train), np.array(y_train), np.array(X_test), np.array(y_test))\n",
    "\n",
    "history8 = ft8.train(np.array(X_train), np.array(y_train), np.array(X_test), np.array(y_test),40)\n"
   ]
  },
  {
   "cell_type": "code",
   "execution_count": 37,
   "metadata": {},
   "outputs": [
    {
     "data": {
      "text/plain": [
       "array([[   32,  2749,     2, ...,     0,     0,     0],\n",
       "       [19892,   333,  1048, ...,     0,     0,     0],\n",
       "       [ 3291,    13,   452, ...,     0,     0,     0],\n",
       "       ...,\n",
       "       [   14,  1396,  2854, ...,     0,     0,     0],\n",
       "       [    7,   252,    11, ...,     0,     0,     0],\n",
       "       [ 1059,    23,   444, ...,     0,     0,     0]])"
      ]
     },
     "execution_count": 37,
     "metadata": {},
     "output_type": "execute_result"
    }
   ],
   "source": [
    "X_train"
   ]
  },
  {
   "cell_type": "code",
   "execution_count": null,
   "metadata": {},
   "outputs": [],
   "source": []
  }
 ],
 "metadata": {
  "kernelspec": {
   "display_name": "Python 3",
   "language": "python",
   "name": "python3"
  },
  "language_info": {
   "codemirror_mode": {
    "name": "ipython",
    "version": 3
   },
   "file_extension": ".py",
   "mimetype": "text/x-python",
   "name": "python",
   "nbconvert_exporter": "python",
   "pygments_lexer": "ipython3",
   "version": "3.7.3"
  }
 },
 "nbformat": 4,
 "nbformat_minor": 2
}
