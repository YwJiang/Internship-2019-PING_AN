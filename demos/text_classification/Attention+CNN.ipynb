{
 "cells": [
  {
   "cell_type": "code",
   "execution_count": 32,
   "metadata": {},
   "outputs": [],
   "source": [
    "import numpy as np\n",
    "import pandas as pd\n",
    "np.random.seed(1337)  # for reproducibility\n",
    "from tensorflow.keras.models import *\n",
    "from tensorflow.keras.layers import Input, Dense, Multiply, Embedding, Flatten\n",
    "from tensorflow.keras.backend import flatten, batch_flatten"
   ]
  },
  {
   "cell_type": "code",
   "execution_count": 5,
   "metadata": {},
   "outputs": [],
   "source": [
    "path = './data/ChnSentiCorp_htl_all.csv'\n",
    "pd_all = pd.read_csv(path)"
   ]
  },
  {
   "cell_type": "markdown",
   "metadata": {},
   "source": [
    "# Preprocessing"
   ]
  },
  {
   "cell_type": "markdown",
   "metadata": {},
   "source": [
    "### Generate balanced corpus"
   ]
  },
  {
   "cell_type": "code",
   "execution_count": 6,
   "metadata": {},
   "outputs": [],
   "source": [
    "pd_positive = pd_all[pd_all.label==1]\n",
    "pd_negative = pd_all[pd_all.label==0]\n",
    "\n",
    "def get_balance_corpus(corpus_size, corpus_pos, corpus_neg):\n",
    "    sample_size = corpus_size // 2\n",
    "    pd_corpus_balance = pd.concat([corpus_pos.sample(sample_size, replace=corpus_pos.shape[0]<sample_size), \\\n",
    "                                   corpus_neg.sample(sample_size, replace=corpus_neg.shape[0]<sample_size)])\n",
    "    \n",
    "    print('Comments number(overall)：%d' % pd_corpus_balance.shape[0])\n",
    "    print('Comments number(positive)：%d' % pd_corpus_balance[pd_corpus_balance.label==1].shape[0])\n",
    "    print('Comments number(negative)：%d' % pd_corpus_balance[pd_corpus_balance.label==0].shape[0])    \n",
    "    \n",
    "    return pd_corpus_balance"
   ]
  },
  {
   "cell_type": "code",
   "execution_count": 7,
   "metadata": {
    "collapsed": true
   },
   "outputs": [
    {
     "name": "stdout",
     "output_type": "stream",
     "text": [
      "Comments number(overall)：4000\n",
      "Comments number(positive)：2000\n",
      "Comments number(negative)：2000\n"
     ]
    },
    {
     "data": {
      "text/html": [
       "<div>\n",
       "<style scoped>\n",
       "    .dataframe tbody tr th:only-of-type {\n",
       "        vertical-align: middle;\n",
       "    }\n",
       "\n",
       "    .dataframe tbody tr th {\n",
       "        vertical-align: top;\n",
       "    }\n",
       "\n",
       "    .dataframe thead th {\n",
       "        text-align: right;\n",
       "    }\n",
       "</style>\n",
       "<table border=\"1\" class=\"dataframe\">\n",
       "  <thead>\n",
       "    <tr style=\"text-align: right;\">\n",
       "      <th></th>\n",
       "      <th>label</th>\n",
       "      <th>review</th>\n",
       "    </tr>\n",
       "  </thead>\n",
       "  <tbody>\n",
       "    <tr>\n",
       "      <th>6934</th>\n",
       "      <td>0</td>\n",
       "      <td>位置有点篇，房间不是很隔音，不过100多的房价也就这个样了。免费注册网站导航宾馆索引服务说明...</td>\n",
       "    </tr>\n",
       "    <tr>\n",
       "      <th>5022</th>\n",
       "      <td>1</td>\n",
       "      <td>总体感觉还不错。房间很干净、简洁。网上所披露的位于海河最美的一段，特意要了6层的房间，可是却...</td>\n",
       "    </tr>\n",
       "    <tr>\n",
       "      <th>5417</th>\n",
       "      <td>0</td>\n",
       "      <td>房价较贵，位置也比较偏，房屋隔音效果较差。屋外说话，里面的清清楚楚。不是每间房间都有宽带，我...</td>\n",
       "    </tr>\n",
       "    <tr>\n",
       "      <th>1089</th>\n",
       "      <td>1</td>\n",
       "      <td>老酒店翻新，总体来说还可以，性价比比较高</td>\n",
       "    </tr>\n",
       "    <tr>\n",
       "      <th>777</th>\n",
       "      <td>1</td>\n",
       "      <td>在该区是最好的酒店，但离市区的酒店有一些差距。</td>\n",
       "    </tr>\n",
       "    <tr>\n",
       "      <th>530</th>\n",
       "      <td>1</td>\n",
       "      <td>两个月里面已经住了三次了,当然好啦,交通也很方便哈</td>\n",
       "    </tr>\n",
       "    <tr>\n",
       "      <th>4792</th>\n",
       "      <td>1</td>\n",
       "      <td>上个礼拜刚去过...环境还是不错的.饭菜也很可口,价格略贵.房间不错,很古朴,很安静,在那休...</td>\n",
       "    </tr>\n",
       "    <tr>\n",
       "      <th>7240</th>\n",
       "      <td>0</td>\n",
       "      <td>一分钟一块钱的网费，贵的惊人。三个门，只有中间的转门开放，其他的门都封了(不知原因)，没有门...</td>\n",
       "    </tr>\n",
       "    <tr>\n",
       "      <th>5841</th>\n",
       "      <td>0</td>\n",
       "      <td>酒店服的服度不太有貌,入住的房比陋,房.</td>\n",
       "    </tr>\n",
       "    <tr>\n",
       "      <th>6487</th>\n",
       "      <td>0</td>\n",
       "      <td>好小的门面，没有电梯，房间也不是很一致！最郁闷的是我不知道我们公司跟他们有合约，他就让我的客...</td>\n",
       "    </tr>\n",
       "  </tbody>\n",
       "</table>\n",
       "</div>"
      ],
      "text/plain": [
       "      label                                             review\n",
       "6934      0  位置有点篇，房间不是很隔音，不过100多的房价也就这个样了。免费注册网站导航宾馆索引服务说明...\n",
       "5022      1  总体感觉还不错。房间很干净、简洁。网上所披露的位于海河最美的一段，特意要了6层的房间，可是却...\n",
       "5417      0  房价较贵，位置也比较偏，房屋隔音效果较差。屋外说话，里面的清清楚楚。不是每间房间都有宽带，我...\n",
       "1089      1                               老酒店翻新，总体来说还可以，性价比比较高\n",
       "777       1                            在该区是最好的酒店，但离市区的酒店有一些差距。\n",
       "530       1                          两个月里面已经住了三次了,当然好啦,交通也很方便哈\n",
       "4792      1  上个礼拜刚去过...环境还是不错的.饭菜也很可口,价格略贵.房间不错,很古朴,很安静,在那休...\n",
       "7240      0  一分钟一块钱的网费，贵的惊人。三个门，只有中间的转门开放，其他的门都封了(不知原因)，没有门...\n",
       "5841      0                               酒店服的服度不太有貌,入住的房比陋,房.\n",
       "6487      0  好小的门面，没有电梯，房间也不是很一致！最郁闷的是我不知道我们公司跟他们有合约，他就让我的客..."
      ]
     },
     "execution_count": 7,
     "metadata": {},
     "output_type": "execute_result"
    }
   ],
   "source": [
    "ChnSentiCorp_htl_ba_2000 = get_balance_corpus(4000, pd_positive, pd_negative)\n",
    "\n",
    "ChnSentiCorp_htl_ba_2000.sample(10)"
   ]
  },
  {
   "cell_type": "code",
   "execution_count": 8,
   "metadata": {},
   "outputs": [],
   "source": [
    "dataset = ChnSentiCorp_htl_ba_2000\n",
    "dataset.columns = ['label', 'sentence']"
   ]
  },
  {
   "cell_type": "code",
   "execution_count": 9,
   "metadata": {},
   "outputs": [],
   "source": [
    "import jieba\n",
    "from string import punctuation\n",
    "from zhon import hanzi\n",
    "import re"
   ]
  },
  {
   "cell_type": "code",
   "execution_count": 10,
   "metadata": {},
   "outputs": [],
   "source": [
    "# remove the punctuations (both English and Chinese)\n",
    "def remove_punctuation(input_string):\n",
    "    punc = punctuation + hanzi.punctuation\n",
    "    output = re.sub(r'[{}]+'.format(punc), '', input_string)\n",
    "    return output\n",
    "\n",
    "def jieba_cut(sentence):\n",
    "    sent_seg = jieba.cut(sentence)\n",
    "    sent_new = ' '.join(sent_seg)\n",
    "    sent_new = remove_punctuation(sent_new)\n",
    "    sent_strip = sent_new.strip()\n",
    "    return sent_strip"
   ]
  },
  {
   "cell_type": "code",
   "execution_count": 11,
   "metadata": {},
   "outputs": [
    {
     "name": "stderr",
     "output_type": "stream",
     "text": [
      "Building prefix dict from the default dictionary ...\n",
      "I0925 13:54:28.133116 12088 __init__.py:111] Building prefix dict from the default dictionary ...\n",
      "Loading model from cache C:\\Users\\ADMINI~1\\AppData\\Local\\Temp\\jieba.cache\n",
      "I0925 13:54:28.137073 12088 __init__.py:131] Loading model from cache C:\\Users\\ADMINI~1\\AppData\\Local\\Temp\\jieba.cache\n",
      "Loading model cost 0.993 seconds.\n",
      "I0925 13:54:29.129253 12088 __init__.py:163] Loading model cost 0.993 seconds.\n",
      "Prefix dict has been built succesfully.\n",
      "I0925 13:54:29.131248 12088 __init__.py:164] Prefix dict has been built succesfully.\n"
     ]
    },
    {
     "data": {
      "text/plain": [
       "'任由 着  你 来 了  你 走 了'"
      ]
     },
     "execution_count": 11,
     "metadata": {},
     "output_type": "execute_result"
    }
   ],
   "source": [
    "sentence = \"任由着，你来了，你走了\"\n",
    "jieba_cut(sentence)\n"
   ]
  },
  {
   "cell_type": "code",
   "execution_count": 12,
   "metadata": {},
   "outputs": [],
   "source": [
    "dataset = dataset.dropna(axis=0,how='any') #drop all rows that have any NaN values\n",
    "clean_sent = ['']*len(dataset)\n",
    "for i in range(len(dataset['sentence'])):\n",
    "    sent = dataset['sentence'].tolist()[i]\n",
    "    try:\n",
    "        clean_sent[i] = jieba_cut(sent)\n",
    "    except:\n",
    "        print(sent)\n",
    "        print(i)"
   ]
  },
  {
   "cell_type": "markdown",
   "metadata": {},
   "source": [
    "# Sentence to index vector"
   ]
  },
  {
   "cell_type": "markdown",
   "metadata": {},
   "source": [
    "### generate dictionary"
   ]
  },
  {
   "cell_type": "code",
   "execution_count": 13,
   "metadata": {},
   "outputs": [],
   "source": [
    "import pickle as pkl\n",
    "from collections import OrderedDict\n",
    "import argparse\n",
    "import os\n",
    "\n",
    "def build_dictionary(text):\n",
    "    \"\"\"\n",
    "    Build a dictionary\n",
    "    :param text: list of sentences (pre-tokens)\n",
    "    :return:\n",
    "    \"\"\"\n",
    "    wordcount = {}\n",
    "    for cc in text:\n",
    "        words = cc.split()\n",
    "        for w in words:\n",
    "            if w not in wordcount:\n",
    "                wordcount[w] = 0\n",
    "            wordcount[w] += 1\n",
    "\n",
    "    sorted_words = sorted(list(wordcount.keys()), key=lambda x: wordcount[x], reverse=True)\n",
    "\n",
    "    worddict = OrderedDict()\n",
    "    worddict[\"<PAD>\"] = 0\n",
    "    worddict[\"<UNK>\"] = 1\n",
    "    for idx, word in enumerate(sorted_words):\n",
    "        worddict[word] = idx+2\n",
    "\n",
    "#     print(\"vocab.py: build_dictionary: wordict\", worddict, type(worddict))\n",
    "\n",
    "    return worddict, wordcount\n"
   ]
  },
  {
   "cell_type": "code",
   "execution_count": 14,
   "metadata": {},
   "outputs": [],
   "source": [
    "word_dictionary, _ = build_dictionary(clean_sent) "
   ]
  },
  {
   "cell_type": "markdown",
   "metadata": {},
   "source": [
    "### encode sentence"
   ]
  },
  {
   "cell_type": "code",
   "execution_count": 16,
   "metadata": {},
   "outputs": [],
   "source": [
    "def encode_sent(list_sent, dictionary):\n",
    "    index = [np.nan]*len(list_sent)\n",
    "    for i in range(len(list_sent)):\n",
    "        sent = list_sent[i]\n",
    "        list_words = jieba_cut(sent).split()\n",
    "        list_index = [0]*len(list_words)\n",
    "        for j in range(len(list_words)):\n",
    "            list_index[j] = dictionary.get(list_words[j], 1)\n",
    "        index[i] = np.array(list_index)\n",
    "    return index"
   ]
  },
  {
   "cell_type": "code",
   "execution_count": 17,
   "metadata": {},
   "outputs": [
    {
     "data": {
      "text/plain": [
       "array([   71,    16,    21,   315,    34,  7025,     9,  7025, 10200,\n",
       "           5,   100,    21,     2,   138,   422,    34,    14, 10201,\n",
       "           2,   124,  1275,    70,    33,    68,   200,    34,    49,\n",
       "         383,     2,   104,   188,     3,    42,   195,    94,    61,\n",
       "         148,    45,    65,    46,   979,  1898,     2,   744,     4,\n",
       "          12,  2197,     7,     5,   443,  1497,  1275,     2,   380,\n",
       "        1898,   212,  1275,   239,     9,   325,    64,   285,  1662,\n",
       "          19,   229,  7026,   181,  1898,   336,   592,  1898,   223,\n",
       "          23,    19,     4])"
      ]
     },
     "execution_count": 17,
     "metadata": {},
     "output_type": "execute_result"
    }
   ],
   "source": [
    "all_sentence_index = encode_sent(dataset['sentence'].tolist(), word_dictionary)\n",
    "all_sentence_index[0]"
   ]
  },
  {
   "cell_type": "code",
   "execution_count": 18,
   "metadata": {},
   "outputs": [],
   "source": [
    "from tensorflow import keras\n",
    "\n",
    "all_data = keras.preprocessing.sequence.pad_sequences(all_sentence_index,\n",
    "                                                        value=word_dictionary[\"<PAD>\"],\n",
    "                                                        padding='post',\n",
    "                                                        maxlen=256)"
   ]
  },
  {
   "cell_type": "code",
   "execution_count": 19,
   "metadata": {},
   "outputs": [],
   "source": [
    "from sklearn.model_selection import train_test_split\n",
    "X_train, X_test, y_train, y_test = train_test_split(all_data, \n",
    "                                                     dataset['label'], test_size=0.33, random_state=42)"
   ]
  },
  {
   "cell_type": "markdown",
   "metadata": {},
   "source": [
    "### y_label to vector"
   ]
  },
  {
   "cell_type": "code",
   "execution_count": 29,
   "metadata": {},
   "outputs": [],
   "source": [
    "from sklearn import preprocessing\n",
    "from keras.utils.np_utils import to_categorical"
   ]
  },
  {
   "cell_type": "code",
   "execution_count": 30,
   "metadata": {},
   "outputs": [],
   "source": [
    "y_labels = list(y_train.value_counts().index)\n",
    "le = preprocessing.LabelEncoder()\n",
    "le.fit(y_labels)\n",
    "num_labels = len(y_labels)\n",
    "y_train = to_categorical(y_train.map(lambda x: le.transform([x])[0]), num_labels)\n",
    "y_test = to_categorical(y_test.map(lambda x: le.transform([x])[0]), num_labels)"
   ]
  },
  {
   "cell_type": "code",
   "execution_count": 79,
   "metadata": {},
   "outputs": [
    {
     "data": {
      "text/plain": [
       "(array([637, 683]), array([683, 637]))"
      ]
     },
     "execution_count": 79,
     "metadata": {},
     "output_type": "execute_result"
    }
   ],
   "source": []
  },
  {
   "cell_type": "markdown",
   "metadata": {},
   "source": [
    "# Attention"
   ]
  },
  {
   "cell_type": "code",
   "execution_count": 59,
   "metadata": {},
   "outputs": [],
   "source": [
    "\n",
    "def build_model(padding_len = 256, dict_len=10 , output_dim=100):\n",
    "    \n",
    "    inputs = Input(shape=(padding_len,),name=\"input_layer\")\n",
    "    \n",
    "    emb = Embedding(dict_len, output_dim, input_length=None, name=\"embedding_layer\")(inputs)\n",
    "\n",
    "    # ATTENTION PART STARTS HERE\n",
    "    attention_probs = Dense(output_dim, activation='softmax', name='attention_vec')(emb)\n",
    "    attention_mul = Multiply()([emb, attention_probs]) \n",
    "    # ATTENTION PART FINISHES HERE\n",
    "\n",
    "    attention_mul = Dense(64)(attention_mul)\n",
    "    flat = Flatten()(attention_mul)\n",
    "    print(flat.shape)\n",
    "    output = Dense(2, activation='softmax')(flat)\n",
    "    model = Model(inputs=inputs, outputs=output)\n",
    "    return model\n",
    "\n",
    "\n"
   ]
  },
  {
   "cell_type": "code",
   "execution_count": 60,
   "metadata": {},
   "outputs": [
    {
     "name": "stdout",
     "output_type": "stream",
     "text": [
      "(?, 16384)\n",
      "Model: \"model_5\"\n",
      "__________________________________________________________________________________________________\n",
      "Layer (type)                    Output Shape         Param #     Connected to                     \n",
      "==================================================================================================\n",
      "input_layer (InputLayer)        [(None, 256)]        0                                            \n",
      "__________________________________________________________________________________________________\n",
      "embedding_layer (Embedding)     (None, 256, 100)     2177600     input_layer[0][0]                \n",
      "__________________________________________________________________________________________________\n",
      "attention_vec (Dense)           (None, 256, 100)     10100       embedding_layer[0][0]            \n",
      "__________________________________________________________________________________________________\n",
      "multiply_10 (Multiply)          (None, 256, 100)     0           embedding_layer[0][0]            \n",
      "                                                                 attention_vec[0][0]              \n",
      "__________________________________________________________________________________________________\n",
      "dense_19 (Dense)                (None, 256, 64)      6464        multiply_10[0][0]                \n",
      "__________________________________________________________________________________________________\n",
      "flatten_8 (Flatten)             (None, 16384)        0           dense_19[0][0]                   \n",
      "__________________________________________________________________________________________________\n",
      "dense_20 (Dense)                (None, 2)            32770       flatten_8[0][0]                  \n",
      "==================================================================================================\n",
      "Total params: 2,226,934\n",
      "Trainable params: 2,226,934\n",
      "Non-trainable params: 0\n",
      "__________________________________________________________________________________________________\n",
      "None\n"
     ]
    }
   ],
   "source": [
    "dict_len = len(word_dictionary)\n",
    "m = build_model(dict_len=dict_len)\n",
    "m.compile(optimizer='adam', loss='binary_crossentropy', metrics=['accuracy'])\n",
    "print(m.summary())"
   ]
  },
  {
   "cell_type": "code",
   "execution_count": 61,
   "metadata": {},
   "outputs": [
    {
     "data": {
      "text/plain": [
       "21776"
      ]
     },
     "execution_count": 61,
     "metadata": {},
     "output_type": "execute_result"
    }
   ],
   "source": [
    "len(word_dictionary) "
   ]
  },
  {
   "cell_type": "code",
   "execution_count": 62,
   "metadata": {
    "scrolled": true
   },
   "outputs": [
    {
     "name": "stdout",
     "output_type": "stream",
     "text": [
      "Train on 2679 samples, validate on 1320 samples\n",
      "Epoch 1/100\n",
      "2679/2679 [==============================] - 7s 2ms/sample - loss: 0.6919 - acc: 0.5222 - val_loss: 0.6875 - val_acc: 0.5674\n",
      "Epoch 2/100\n",
      "2679/2679 [==============================] - 6s 2ms/sample - loss: 0.6761 - acc: 0.5607 - val_loss: 0.6708 - val_acc: 0.5818\n",
      "Epoch 3/100\n",
      "2679/2679 [==============================] - 6s 2ms/sample - loss: 0.6427 - acc: 0.6166 - val_loss: 0.6819 - val_acc: 0.5795\n",
      "Epoch 4/100\n",
      "2679/2679 [==============================] - 6s 2ms/sample - loss: 0.5223 - acc: 0.7555 - val_loss: 0.4479 - val_acc: 0.8053\n",
      "Epoch 5/100\n",
      "2679/2679 [==============================] - 6s 2ms/sample - loss: 0.3073 - acc: 0.8850 - val_loss: 0.3392 - val_acc: 0.8568\n",
      "Epoch 6/100\n",
      "2679/2679 [==============================] - 6s 2ms/sample - loss: 0.2045 - acc: 0.9235 - val_loss: 0.3126 - val_acc: 0.8682\n",
      "Epoch 7/100\n",
      "2679/2679 [==============================] - 6s 2ms/sample - loss: 0.1458 - acc: 0.9492 - val_loss: 0.3167 - val_acc: 0.8765\n",
      "Epoch 8/100\n",
      "2679/2679 [==============================] - 7s 2ms/sample - loss: 0.1052 - acc: 0.9660 - val_loss: 0.3183 - val_acc: 0.8773\n",
      "Epoch 9/100\n",
      "2679/2679 [==============================] - 6s 2ms/sample - loss: 0.0799 - acc: 0.9784 - val_loss: 0.3342 - val_acc: 0.8727\n",
      "Epoch 10/100\n",
      "2679/2679 [==============================] - 6s 2ms/sample - loss: 0.0589 - acc: 0.9843 - val_loss: 0.3715 - val_acc: 0.8667\n",
      "Epoch 11/100\n",
      "2679/2679 [==============================] - 6s 2ms/sample - loss: 0.0502 - acc: 0.9858 - val_loss: 0.3806 - val_acc: 0.8644\n",
      "Epoch 12/100\n",
      "2679/2679 [==============================] - 6s 2ms/sample - loss: 0.0359 - acc: 0.9922 - val_loss: 0.4105 - val_acc: 0.8583\n",
      "Epoch 13/100\n",
      "2679/2679 [==============================] - 6s 2ms/sample - loss: 0.0276 - acc: 0.9951 - val_loss: 0.4485 - val_acc: 0.8545\n",
      "Epoch 14/100\n",
      "2679/2679 [==============================] - 6s 2ms/sample - loss: 0.0220 - acc: 0.9959 - val_loss: 0.4578 - val_acc: 0.8614\n",
      "Epoch 15/100\n",
      "2679/2679 [==============================] - 6s 2ms/sample - loss: 0.0176 - acc: 0.9966 - val_loss: 0.4837 - val_acc: 0.8530\n",
      "Epoch 16/100\n",
      "2679/2679 [==============================] - 6s 2ms/sample - loss: 0.0125 - acc: 0.9985 - val_loss: 0.5177 - val_acc: 0.8485\n",
      "Epoch 17/100\n",
      "2679/2679 [==============================] - 7s 2ms/sample - loss: 0.0100 - acc: 0.9981 - val_loss: 0.5445 - val_acc: 0.8515\n",
      "Epoch 18/100\n",
      "2679/2679 [==============================] - 6s 2ms/sample - loss: 0.0075 - acc: 0.9985 - val_loss: 0.5757 - val_acc: 0.8432\n",
      "Epoch 19/100\n",
      "2679/2679 [==============================] - 6s 2ms/sample - loss: 0.0053 - acc: 0.9993 - val_loss: 0.6039 - val_acc: 0.8417\n",
      "Epoch 20/100\n",
      "2679/2679 [==============================] - 6s 2ms/sample - loss: 0.0041 - acc: 0.9993 - val_loss: 0.6342 - val_acc: 0.8402\n",
      "Epoch 21/100\n",
      "2679/2679 [==============================] - 6s 2ms/sample - loss: 0.0028 - acc: 0.9996 - val_loss: 0.6608 - val_acc: 0.8417\n",
      "Epoch 22/100\n",
      "2679/2679 [==============================] - 6s 2ms/sample - loss: 0.0020 - acc: 1.0000 - val_loss: 0.6814 - val_acc: 0.8394\n",
      "Epoch 23/100\n",
      "2679/2679 [==============================] - 6s 2ms/sample - loss: 0.0017 - acc: 1.0000 - val_loss: 0.7038 - val_acc: 0.8394\n",
      "Epoch 24/100\n",
      "2679/2679 [==============================] - 6s 2ms/sample - loss: 0.0013 - acc: 1.0000 - val_loss: 0.7247 - val_acc: 0.8409\n",
      "Epoch 25/100\n",
      "2679/2679 [==============================] - 6s 2ms/sample - loss: 0.0011 - acc: 1.0000 - val_loss: 0.7381 - val_acc: 0.8379\n",
      "Epoch 26/100\n",
      "2679/2679 [==============================] - 6s 2ms/sample - loss: 0.0010 - acc: 1.0000 - val_loss: 0.7534 - val_acc: 0.8364\n",
      "Epoch 27/100\n",
      "2679/2679 [==============================] - 7s 2ms/sample - loss: 8.4968e-04 - acc: 1.0000 - val_loss: 0.7689 - val_acc: 0.8348\n",
      "Epoch 28/100\n",
      "2679/2679 [==============================] - 6s 2ms/sample - loss: 7.3448e-04 - acc: 1.0000 - val_loss: 0.7819 - val_acc: 0.8341\n",
      "Epoch 29/100\n",
      "2679/2679 [==============================] - 6s 2ms/sample - loss: 6.3332e-04 - acc: 1.0000 - val_loss: 0.7949 - val_acc: 0.8341\n",
      "Epoch 30/100\n",
      "2679/2679 [==============================] - 6s 2ms/sample - loss: 5.5705e-04 - acc: 1.0000 - val_loss: 0.8092 - val_acc: 0.8333\n",
      "Epoch 31/100\n",
      "2679/2679 [==============================] - 6s 2ms/sample - loss: 4.8385e-04 - acc: 1.0000 - val_loss: 0.8188 - val_acc: 0.8333\n",
      "Epoch 32/100\n",
      "2679/2679 [==============================] - 6s 2ms/sample - loss: 4.3828e-04 - acc: 1.0000 - val_loss: 0.8294 - val_acc: 0.8326\n",
      "Epoch 33/100\n",
      "2679/2679 [==============================] - 6s 2ms/sample - loss: 4.1233e-04 - acc: 1.0000 - val_loss: 0.8419 - val_acc: 0.8333\n",
      "Epoch 34/100\n",
      "2679/2679 [==============================] - 6s 2ms/sample - loss: 3.6826e-04 - acc: 1.0000 - val_loss: 0.8495 - val_acc: 0.8341\n",
      "Epoch 35/100\n",
      "2679/2679 [==============================] - 6s 2ms/sample - loss: 3.2256e-04 - acc: 1.0000 - val_loss: 0.8587 - val_acc: 0.8326\n",
      "Epoch 36/100\n",
      "2679/2679 [==============================] - 6s 2ms/sample - loss: 3.0063e-04 - acc: 1.0000 - val_loss: 0.8676 - val_acc: 0.8318\n",
      "Epoch 37/100\n",
      "2679/2679 [==============================] - 7s 3ms/sample - loss: 2.7104e-04 - acc: 1.0000 - val_loss: 0.8762 - val_acc: 0.8318\n",
      "Epoch 38/100\n",
      "2679/2679 [==============================] - 7s 2ms/sample - loss: 2.5168e-04 - acc: 1.0000 - val_loss: 0.8843 - val_acc: 0.8311\n",
      "Epoch 39/100\n",
      "2679/2679 [==============================] - 7s 3ms/sample - loss: 2.2732e-04 - acc: 1.0000 - val_loss: 0.8928 - val_acc: 0.8318\n",
      "Epoch 40/100\n",
      "2679/2679 [==============================] - 6s 2ms/sample - loss: 2.0900e-04 - acc: 1.0000 - val_loss: 0.9000 - val_acc: 0.8318\n",
      "Epoch 41/100\n",
      "2679/2679 [==============================] - 6s 2ms/sample - loss: 1.9578e-04 - acc: 1.0000 - val_loss: 0.9076 - val_acc: 0.8295\n",
      "Epoch 42/100\n",
      "2679/2679 [==============================] - 7s 3ms/sample - loss: 1.8371e-04 - acc: 1.0000 - val_loss: 0.9154 - val_acc: 0.8318\n",
      "Epoch 43/100\n",
      "2679/2679 [==============================] - 6s 2ms/sample - loss: 1.7047e-04 - acc: 1.0000 - val_loss: 0.9212 - val_acc: 0.8326\n",
      "Epoch 44/100\n",
      "2679/2679 [==============================] - 7s 3ms/sample - loss: 1.5761e-04 - acc: 1.0000 - val_loss: 0.9288 - val_acc: 0.8333\n",
      "Epoch 45/100\n",
      "2679/2679 [==============================] - 6s 2ms/sample - loss: 1.4858e-04 - acc: 1.0000 - val_loss: 0.9354 - val_acc: 0.8311\n",
      "Epoch 46/100\n",
      "2679/2679 [==============================] - 7s 2ms/sample - loss: 1.3537e-04 - acc: 1.0000 - val_loss: 0.9418 - val_acc: 0.8311\n",
      "Epoch 47/100\n",
      "2679/2679 [==============================] - 6s 2ms/sample - loss: 1.2761e-04 - acc: 1.0000 - val_loss: 0.9473 - val_acc: 0.8318\n",
      "Epoch 48/100\n",
      "2679/2679 [==============================] - 6s 2ms/sample - loss: 1.1971e-04 - acc: 1.0000 - val_loss: 0.9523 - val_acc: 0.8311\n",
      "Epoch 49/100\n",
      "2679/2679 [==============================] - 6s 2ms/sample - loss: 1.1193e-04 - acc: 1.0000 - val_loss: 0.9583 - val_acc: 0.8326\n",
      "Epoch 50/100\n",
      "2679/2679 [==============================] - 6s 2ms/sample - loss: 1.0534e-04 - acc: 1.0000 - val_loss: 0.9643 - val_acc: 0.8311\n",
      "Epoch 51/100\n",
      "2679/2679 [==============================] - 6s 2ms/sample - loss: 9.8360e-05 - acc: 1.0000 - val_loss: 0.9701 - val_acc: 0.8303\n",
      "Epoch 52/100\n",
      "2679/2679 [==============================] - 6s 2ms/sample - loss: 9.3431e-05 - acc: 1.0000 - val_loss: 0.9751 - val_acc: 0.8326\n",
      "Epoch 53/100\n",
      "2679/2679 [==============================] - 6s 2ms/sample - loss: 8.7560e-05 - acc: 1.0000 - val_loss: 0.9808 - val_acc: 0.8303\n",
      "Epoch 54/100\n",
      "2679/2679 [==============================] - 6s 2ms/sample - loss: 8.3389e-05 - acc: 1.0000 - val_loss: 0.9855 - val_acc: 0.8318\n",
      "Epoch 55/100\n",
      "2679/2679 [==============================] - 7s 3ms/sample - loss: 7.8848e-05 - acc: 1.0000 - val_loss: 0.9910 - val_acc: 0.8326\n",
      "Epoch 56/100\n",
      "2679/2679 [==============================] - 6s 2ms/sample - loss: 7.4660e-05 - acc: 1.0000 - val_loss: 0.9959 - val_acc: 0.8318\n",
      "Epoch 57/100\n",
      "2679/2679 [==============================] - 7s 3ms/sample - loss: 7.1308e-05 - acc: 1.0000 - val_loss: 1.0011 - val_acc: 0.8318\n",
      "Epoch 58/100\n",
      "2679/2679 [==============================] - 7s 3ms/sample - loss: 6.6869e-05 - acc: 1.0000 - val_loss: 1.0060 - val_acc: 0.8318\n",
      "Epoch 59/100\n"
     ]
    },
    {
     "name": "stdout",
     "output_type": "stream",
     "text": [
      "2679/2679 [==============================] - 6s 2ms/sample - loss: 6.4249e-05 - acc: 1.0000 - val_loss: 1.0102 - val_acc: 0.8318\n",
      "Epoch 60/100\n",
      "2679/2679 [==============================] - 6s 2ms/sample - loss: 6.0543e-05 - acc: 1.0000 - val_loss: 1.0149 - val_acc: 0.8326\n",
      "Epoch 61/100\n",
      "2679/2679 [==============================] - 6s 2ms/sample - loss: 5.7494e-05 - acc: 1.0000 - val_loss: 1.0195 - val_acc: 0.8318\n",
      "Epoch 62/100\n",
      "2679/2679 [==============================] - 6s 2ms/sample - loss: 5.4831e-05 - acc: 1.0000 - val_loss: 1.0239 - val_acc: 0.8326\n",
      "Epoch 63/100\n",
      "2679/2679 [==============================] - 6s 2ms/sample - loss: 5.2717e-05 - acc: 1.0000 - val_loss: 1.0280 - val_acc: 0.8326\n",
      "Epoch 64/100\n",
      "2679/2679 [==============================] - 6s 2ms/sample - loss: 5.0609e-05 - acc: 1.0000 - val_loss: 1.0324 - val_acc: 0.8318\n",
      "Epoch 65/100\n",
      "2679/2679 [==============================] - 6s 2ms/sample - loss: 4.7748e-05 - acc: 1.0000 - val_loss: 1.0364 - val_acc: 0.8326\n",
      "Epoch 66/100\n",
      "2679/2679 [==============================] - 6s 2ms/sample - loss: 4.6052e-05 - acc: 1.0000 - val_loss: 1.0411 - val_acc: 0.8318\n",
      "Epoch 67/100\n",
      "2679/2679 [==============================] - 6s 2ms/sample - loss: 4.3935e-05 - acc: 1.0000 - val_loss: 1.0451 - val_acc: 0.8303\n",
      "Epoch 68/100\n",
      "2679/2679 [==============================] - 6s 2ms/sample - loss: 4.1479e-05 - acc: 1.0000 - val_loss: 1.0498 - val_acc: 0.8311\n",
      "Epoch 69/100\n",
      "2679/2679 [==============================] - 6s 2ms/sample - loss: 3.9840e-05 - acc: 1.0000 - val_loss: 1.0531 - val_acc: 0.8318\n",
      "Epoch 70/100\n",
      "2679/2679 [==============================] - 6s 2ms/sample - loss: 3.8385e-05 - acc: 1.0000 - val_loss: 1.0572 - val_acc: 0.8295\n",
      "Epoch 71/100\n",
      "2679/2679 [==============================] - 6s 2ms/sample - loss: 3.6812e-05 - acc: 1.0000 - val_loss: 1.0613 - val_acc: 0.8295\n",
      "Epoch 72/100\n",
      "2679/2679 [==============================] - 6s 2ms/sample - loss: 3.4933e-05 - acc: 1.0000 - val_loss: 1.0650 - val_acc: 0.8295\n",
      "Epoch 73/100\n",
      "2679/2679 [==============================] - 6s 2ms/sample - loss: 3.3625e-05 - acc: 1.0000 - val_loss: 1.0690 - val_acc: 0.8288\n",
      "Epoch 74/100\n",
      "2679/2679 [==============================] - 6s 2ms/sample - loss: 3.2216e-05 - acc: 1.0000 - val_loss: 1.0727 - val_acc: 0.8288\n",
      "Epoch 75/100\n",
      "2679/2679 [==============================] - 6s 2ms/sample - loss: 3.0912e-05 - acc: 1.0000 - val_loss: 1.0767 - val_acc: 0.8295\n",
      "Epoch 76/100\n",
      "2679/2679 [==============================] - 6s 2ms/sample - loss: 2.9826e-05 - acc: 1.0000 - val_loss: 1.0802 - val_acc: 0.8295\n",
      "Epoch 77/100\n",
      "2679/2679 [==============================] - 7s 3ms/sample - loss: 2.8593e-05 - acc: 1.0000 - val_loss: 1.0836 - val_acc: 0.8273\n",
      "Epoch 78/100\n",
      "2679/2679 [==============================] - 6s 2ms/sample - loss: 2.7499e-05 - acc: 1.0000 - val_loss: 1.0870 - val_acc: 0.8273\n",
      "Epoch 79/100\n",
      "2679/2679 [==============================] - 6s 2ms/sample - loss: 2.6417e-05 - acc: 1.0000 - val_loss: 1.0909 - val_acc: 0.8280\n",
      "Epoch 80/100\n",
      "2679/2679 [==============================] - 6s 2ms/sample - loss: 2.5495e-05 - acc: 1.0000 - val_loss: 1.0942 - val_acc: 0.8280\n",
      "Epoch 81/100\n",
      "2679/2679 [==============================] - 6s 2ms/sample - loss: 2.4366e-05 - acc: 1.0000 - val_loss: 1.0974 - val_acc: 0.8273\n",
      "Epoch 82/100\n",
      "2679/2679 [==============================] - 7s 2ms/sample - loss: 2.3601e-05 - acc: 1.0000 - val_loss: 1.1010 - val_acc: 0.8273\n",
      "Epoch 83/100\n",
      "2679/2679 [==============================] - 7s 3ms/sample - loss: 2.2640e-05 - acc: 1.0000 - val_loss: 1.1042 - val_acc: 0.8273\n",
      "Epoch 84/100\n",
      "2679/2679 [==============================] - 7s 3ms/sample - loss: 2.2132e-05 - acc: 1.0000 - val_loss: 1.1076 - val_acc: 0.8265\n",
      "Epoch 85/100\n",
      "2679/2679 [==============================] - 7s 3ms/sample - loss: 2.1019e-05 - acc: 1.0000 - val_loss: 1.1108 - val_acc: 0.8258\n",
      "Epoch 86/100\n",
      "2679/2679 [==============================] - 7s 3ms/sample - loss: 2.0401e-05 - acc: 1.0000 - val_loss: 1.1142 - val_acc: 0.8258\n",
      "Epoch 87/100\n",
      "2679/2679 [==============================] - 6s 2ms/sample - loss: 1.9598e-05 - acc: 1.0000 - val_loss: 1.1175 - val_acc: 0.8258\n",
      "Epoch 88/100\n",
      "2679/2679 [==============================] - 7s 2ms/sample - loss: 1.8859e-05 - acc: 1.0000 - val_loss: 1.1207 - val_acc: 0.8258\n",
      "Epoch 89/100\n",
      "2679/2679 [==============================] - 6s 2ms/sample - loss: 1.8165e-05 - acc: 1.0000 - val_loss: 1.1233 - val_acc: 0.8273\n",
      "Epoch 90/100\n",
      "2679/2679 [==============================] - 7s 2ms/sample - loss: 1.7580e-05 - acc: 1.0000 - val_loss: 1.1270 - val_acc: 0.8265\n",
      "Epoch 91/100\n",
      "2679/2679 [==============================] - 7s 2ms/sample - loss: 1.7092e-05 - acc: 1.0000 - val_loss: 1.1302 - val_acc: 0.8265\n",
      "Epoch 92/100\n",
      "2679/2679 [==============================] - 6s 2ms/sample - loss: 1.6432e-05 - acc: 1.0000 - val_loss: 1.1332 - val_acc: 0.8258\n",
      "Epoch 93/100\n",
      "2679/2679 [==============================] - 7s 3ms/sample - loss: 1.5853e-05 - acc: 1.0000 - val_loss: 1.1364 - val_acc: 0.8258\n",
      "Epoch 94/100\n",
      "2679/2679 [==============================] - 7s 2ms/sample - loss: 1.5360e-05 - acc: 1.0000 - val_loss: 1.1395 - val_acc: 0.8258\n",
      "Epoch 95/100\n",
      "2679/2679 [==============================] - 7s 3ms/sample - loss: 1.4876e-05 - acc: 1.0000 - val_loss: 1.1425 - val_acc: 0.8258\n",
      "Epoch 96/100\n",
      "2679/2679 [==============================] - 6s 2ms/sample - loss: 1.4338e-05 - acc: 1.0000 - val_loss: 1.1457 - val_acc: 0.8258\n",
      "Epoch 97/100\n",
      "2679/2679 [==============================] - 6s 2ms/sample - loss: 1.3844e-05 - acc: 1.0000 - val_loss: 1.1485 - val_acc: 0.8265\n",
      "Epoch 98/100\n",
      "2679/2679 [==============================] - 6s 2ms/sample - loss: 1.3352e-05 - acc: 1.0000 - val_loss: 1.1511 - val_acc: 0.8265\n",
      "Epoch 99/100\n",
      "2679/2679 [==============================] - 6s 2ms/sample - loss: 1.2988e-05 - acc: 1.0000 - val_loss: 1.1541 - val_acc: 0.8250\n",
      "Epoch 100/100\n",
      "2679/2679 [==============================] - 6s 2ms/sample - loss: 1.2497e-05 - acc: 1.0000 - val_loss: 1.1572 - val_acc: 0.8250\n"
     ]
    }
   ],
   "source": [
    "# m.fit([X_train], y, epochs=20, batch_size=64, validation_split=0.5)\n",
    "history1 = m.fit(X_train,y_train,epochs=100,batch_size=64,\n",
    "                 validation_data=(X_test, y_test),verbose=1)"
   ]
  },
  {
   "cell_type": "code",
   "execution_count": 58,
   "metadata": {},
   "outputs": [
    {
     "data": {
      "text/plain": [
       "(2679, 256)"
      ]
     },
     "execution_count": 58,
     "metadata": {},
     "output_type": "execute_result"
    }
   ],
   "source": [
    "X_train.shape"
   ]
  },
  {
   "cell_type": "markdown",
   "metadata": {},
   "source": [
    "# Plot the result"
   ]
  },
  {
   "cell_type": "code",
   "execution_count": 63,
   "metadata": {},
   "outputs": [],
   "source": [
    "import matplotlib.pyplot as plt\n",
    "def plot_acc(history):\n",
    "    acc = history.history['acc']\n",
    "    val_acc = history.history['val_acc']\n",
    "    loss = history.history['loss']\n",
    "    val_loss = history.history['val_loss']\n",
    "\n",
    "    epochs = range(1, len(acc) + 1)\n",
    "\n",
    "    # \"bo\" is for \"blue dot\"\n",
    "    plt.plot(epochs, acc, 'bo', label='Training acc')\n",
    "    # b is for \"solid blue line\"\n",
    "    plt.plot(epochs, val_acc, 'b', label='Validation acc')\n",
    "    plt.title('Training and validation acc')\n",
    "    plt.xlabel('Epochs')\n",
    "    plt.ylabel('Acc')\n",
    "    plt.legend()\n",
    "\n",
    "    plt.show()"
   ]
  },
  {
   "cell_type": "code",
   "execution_count": 64,
   "metadata": {},
   "outputs": [
    {
     "data": {
      "image/png": "[encoded data removed]",
      "text/plain": [
       "<Figure size 432x288 with 1 Axes>"
      ]
     },
     "metadata": {
      "needs_background": "light"
     },
     "output_type": "display_data"
    }
   ],
   "source": [
    "plot_acc(history1)"
   ]
  },
  {
   "cell_type": "code",
   "execution_count": null,
   "metadata": {},
   "outputs": [],
   "source": []
  }
 ],
 "metadata": {
  "kernelspec": {
   "display_name": "Python 3",
   "language": "python",
   "name": "python3"
  },
  "language_info": {
   "codemirror_mode": {
    "name": "ipython",
    "version": 3
   },
   "file_extension": ".py",
   "mimetype": "text/x-python",
   "name": "python",
   "nbconvert_exporter": "python",
   "pygments_lexer": "ipython3",
   "version": "3.7.3"
  }
 },
 "nbformat": 4,
 "nbformat_minor": 2
}
